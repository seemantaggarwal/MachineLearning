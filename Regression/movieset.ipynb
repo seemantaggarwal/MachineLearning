{
 "cells": [
  {
   "cell_type": "code",
   "execution_count": 2,
   "metadata": {},
   "outputs": [],
   "source": [
    "import pandas as pd\n",
    "import numpy as np\n",
    "import matplotlib.pyplot as plt"
   ]
  },
  {
   "cell_type": "code",
   "execution_count": 3,
   "metadata": {},
   "outputs": [],
   "source": [
    "df =pd.read_csv(\"movieset.csv\")"
   ]
  },
  {
   "cell_type": "code",
   "execution_count": 4,
   "metadata": {},
   "outputs": [
    {
     "data": {
      "text/html": [
       "<div>\n",
       "<style scoped>\n",
       "    .dataframe tbody tr th:only-of-type {\n",
       "        vertical-align: middle;\n",
       "    }\n",
       "\n",
       "    .dataframe tbody tr th {\n",
       "        vertical-align: top;\n",
       "    }\n",
       "\n",
       "    .dataframe thead th {\n",
       "        text-align: right;\n",
       "    }\n",
       "</style>\n",
       "<table border=\"1\" class=\"dataframe\">\n",
       "  <thead>\n",
       "    <tr style=\"text-align: right;\">\n",
       "      <th></th>\n",
       "      <th>color</th>\n",
       "      <th>director_name</th>\n",
       "      <th>num_critic_for_reviews</th>\n",
       "      <th>duration</th>\n",
       "      <th>director_facebook_likes</th>\n",
       "      <th>actor_3_facebook_likes</th>\n",
       "      <th>actor_2_name</th>\n",
       "      <th>actor_1_facebook_likes</th>\n",
       "      <th>gross</th>\n",
       "      <th>genres</th>\n",
       "      <th>...</th>\n",
       "      <th>num_user_for_reviews</th>\n",
       "      <th>language</th>\n",
       "      <th>country</th>\n",
       "      <th>content_rating</th>\n",
       "      <th>budget</th>\n",
       "      <th>title_year</th>\n",
       "      <th>actor_2_facebook_likes</th>\n",
       "      <th>imdb_score</th>\n",
       "      <th>aspect_ratio</th>\n",
       "      <th>movie_facebook_likes</th>\n",
       "    </tr>\n",
       "  </thead>\n",
       "  <tbody>\n",
       "    <tr>\n",
       "      <td>0</td>\n",
       "      <td>Color</td>\n",
       "      <td>James Cameron</td>\n",
       "      <td>723.0</td>\n",
       "      <td>178.0</td>\n",
       "      <td>0.0</td>\n",
       "      <td>855.0</td>\n",
       "      <td>Joel David Moore</td>\n",
       "      <td>1000.0</td>\n",
       "      <td>760505847.0</td>\n",
       "      <td>Action|Adventure|Fantasy|Sci-Fi</td>\n",
       "      <td>...</td>\n",
       "      <td>3054.0</td>\n",
       "      <td>English</td>\n",
       "      <td>USA</td>\n",
       "      <td>PG-13</td>\n",
       "      <td>237000000.0</td>\n",
       "      <td>2009.0</td>\n",
       "      <td>936.0</td>\n",
       "      <td>7.9</td>\n",
       "      <td>1.78</td>\n",
       "      <td>33000</td>\n",
       "    </tr>\n",
       "    <tr>\n",
       "      <td>1</td>\n",
       "      <td>Color</td>\n",
       "      <td>Gore Verbinski</td>\n",
       "      <td>302.0</td>\n",
       "      <td>169.0</td>\n",
       "      <td>563.0</td>\n",
       "      <td>1000.0</td>\n",
       "      <td>Orlando Bloom</td>\n",
       "      <td>40000.0</td>\n",
       "      <td>309404152.0</td>\n",
       "      <td>Action|Adventure|Fantasy</td>\n",
       "      <td>...</td>\n",
       "      <td>1238.0</td>\n",
       "      <td>English</td>\n",
       "      <td>USA</td>\n",
       "      <td>PG-13</td>\n",
       "      <td>300000000.0</td>\n",
       "      <td>2007.0</td>\n",
       "      <td>5000.0</td>\n",
       "      <td>7.1</td>\n",
       "      <td>2.35</td>\n",
       "      <td>0</td>\n",
       "    </tr>\n",
       "    <tr>\n",
       "      <td>2</td>\n",
       "      <td>Color</td>\n",
       "      <td>Sam Mendes</td>\n",
       "      <td>602.0</td>\n",
       "      <td>148.0</td>\n",
       "      <td>0.0</td>\n",
       "      <td>161.0</td>\n",
       "      <td>Rory Kinnear</td>\n",
       "      <td>11000.0</td>\n",
       "      <td>200074175.0</td>\n",
       "      <td>Action|Adventure|Thriller</td>\n",
       "      <td>...</td>\n",
       "      <td>994.0</td>\n",
       "      <td>English</td>\n",
       "      <td>UK</td>\n",
       "      <td>PG-13</td>\n",
       "      <td>245000000.0</td>\n",
       "      <td>2015.0</td>\n",
       "      <td>393.0</td>\n",
       "      <td>6.8</td>\n",
       "      <td>2.35</td>\n",
       "      <td>85000</td>\n",
       "    </tr>\n",
       "    <tr>\n",
       "      <td>3</td>\n",
       "      <td>Color</td>\n",
       "      <td>Christopher Nolan</td>\n",
       "      <td>813.0</td>\n",
       "      <td>164.0</td>\n",
       "      <td>22000.0</td>\n",
       "      <td>23000.0</td>\n",
       "      <td>Christian Bale</td>\n",
       "      <td>27000.0</td>\n",
       "      <td>448130642.0</td>\n",
       "      <td>Action|Thriller</td>\n",
       "      <td>...</td>\n",
       "      <td>2701.0</td>\n",
       "      <td>English</td>\n",
       "      <td>USA</td>\n",
       "      <td>PG-13</td>\n",
       "      <td>250000000.0</td>\n",
       "      <td>2012.0</td>\n",
       "      <td>23000.0</td>\n",
       "      <td>8.5</td>\n",
       "      <td>2.35</td>\n",
       "      <td>164000</td>\n",
       "    </tr>\n",
       "    <tr>\n",
       "      <td>4</td>\n",
       "      <td>NaN</td>\n",
       "      <td>Doug Walker</td>\n",
       "      <td>NaN</td>\n",
       "      <td>NaN</td>\n",
       "      <td>131.0</td>\n",
       "      <td>NaN</td>\n",
       "      <td>Rob Walker</td>\n",
       "      <td>131.0</td>\n",
       "      <td>NaN</td>\n",
       "      <td>Documentary</td>\n",
       "      <td>...</td>\n",
       "      <td>NaN</td>\n",
       "      <td>NaN</td>\n",
       "      <td>NaN</td>\n",
       "      <td>NaN</td>\n",
       "      <td>NaN</td>\n",
       "      <td>NaN</td>\n",
       "      <td>12.0</td>\n",
       "      <td>7.1</td>\n",
       "      <td>NaN</td>\n",
       "      <td>0</td>\n",
       "    </tr>\n",
       "    <tr>\n",
       "      <td>5</td>\n",
       "      <td>Color</td>\n",
       "      <td>Andrew Stanton</td>\n",
       "      <td>462.0</td>\n",
       "      <td>132.0</td>\n",
       "      <td>475.0</td>\n",
       "      <td>530.0</td>\n",
       "      <td>Samantha Morton</td>\n",
       "      <td>640.0</td>\n",
       "      <td>73058679.0</td>\n",
       "      <td>Action|Adventure|Sci-Fi</td>\n",
       "      <td>...</td>\n",
       "      <td>738.0</td>\n",
       "      <td>English</td>\n",
       "      <td>USA</td>\n",
       "      <td>PG-13</td>\n",
       "      <td>263700000.0</td>\n",
       "      <td>2012.0</td>\n",
       "      <td>632.0</td>\n",
       "      <td>6.6</td>\n",
       "      <td>2.35</td>\n",
       "      <td>24000</td>\n",
       "    </tr>\n",
       "    <tr>\n",
       "      <td>6</td>\n",
       "      <td>Color</td>\n",
       "      <td>Sam Raimi</td>\n",
       "      <td>392.0</td>\n",
       "      <td>156.0</td>\n",
       "      <td>0.0</td>\n",
       "      <td>4000.0</td>\n",
       "      <td>James Franco</td>\n",
       "      <td>24000.0</td>\n",
       "      <td>336530303.0</td>\n",
       "      <td>Action|Adventure|Romance</td>\n",
       "      <td>...</td>\n",
       "      <td>1902.0</td>\n",
       "      <td>English</td>\n",
       "      <td>USA</td>\n",
       "      <td>PG-13</td>\n",
       "      <td>258000000.0</td>\n",
       "      <td>2007.0</td>\n",
       "      <td>11000.0</td>\n",
       "      <td>6.2</td>\n",
       "      <td>2.35</td>\n",
       "      <td>0</td>\n",
       "    </tr>\n",
       "    <tr>\n",
       "      <td>7</td>\n",
       "      <td>Color</td>\n",
       "      <td>Nathan Greno</td>\n",
       "      <td>324.0</td>\n",
       "      <td>100.0</td>\n",
       "      <td>15.0</td>\n",
       "      <td>284.0</td>\n",
       "      <td>Donna Murphy</td>\n",
       "      <td>799.0</td>\n",
       "      <td>200807262.0</td>\n",
       "      <td>Adventure|Animation|Comedy|Family|Fantasy|Musi...</td>\n",
       "      <td>...</td>\n",
       "      <td>387.0</td>\n",
       "      <td>English</td>\n",
       "      <td>USA</td>\n",
       "      <td>PG</td>\n",
       "      <td>260000000.0</td>\n",
       "      <td>2010.0</td>\n",
       "      <td>553.0</td>\n",
       "      <td>7.8</td>\n",
       "      <td>1.85</td>\n",
       "      <td>29000</td>\n",
       "    </tr>\n",
       "    <tr>\n",
       "      <td>8</td>\n",
       "      <td>Color</td>\n",
       "      <td>Joss Whedon</td>\n",
       "      <td>635.0</td>\n",
       "      <td>141.0</td>\n",
       "      <td>0.0</td>\n",
       "      <td>19000.0</td>\n",
       "      <td>Robert Downey Jr.</td>\n",
       "      <td>26000.0</td>\n",
       "      <td>458991599.0</td>\n",
       "      <td>Action|Adventure|Sci-Fi</td>\n",
       "      <td>...</td>\n",
       "      <td>1117.0</td>\n",
       "      <td>English</td>\n",
       "      <td>USA</td>\n",
       "      <td>PG-13</td>\n",
       "      <td>250000000.0</td>\n",
       "      <td>2015.0</td>\n",
       "      <td>21000.0</td>\n",
       "      <td>7.5</td>\n",
       "      <td>2.35</td>\n",
       "      <td>118000</td>\n",
       "    </tr>\n",
       "    <tr>\n",
       "      <td>9</td>\n",
       "      <td>Color</td>\n",
       "      <td>David Yates</td>\n",
       "      <td>375.0</td>\n",
       "      <td>153.0</td>\n",
       "      <td>282.0</td>\n",
       "      <td>10000.0</td>\n",
       "      <td>Daniel Radcliffe</td>\n",
       "      <td>25000.0</td>\n",
       "      <td>301956980.0</td>\n",
       "      <td>Adventure|Family|Fantasy|Mystery</td>\n",
       "      <td>...</td>\n",
       "      <td>973.0</td>\n",
       "      <td>English</td>\n",
       "      <td>UK</td>\n",
       "      <td>PG</td>\n",
       "      <td>250000000.0</td>\n",
       "      <td>2009.0</td>\n",
       "      <td>11000.0</td>\n",
       "      <td>7.5</td>\n",
       "      <td>2.35</td>\n",
       "      <td>10000</td>\n",
       "    </tr>\n",
       "  </tbody>\n",
       "</table>\n",
       "<p>10 rows × 28 columns</p>\n",
       "</div>"
      ],
      "text/plain": [
       "   color      director_name  num_critic_for_reviews  duration  \\\n",
       "0  Color      James Cameron                   723.0     178.0   \n",
       "1  Color     Gore Verbinski                   302.0     169.0   \n",
       "2  Color         Sam Mendes                   602.0     148.0   \n",
       "3  Color  Christopher Nolan                   813.0     164.0   \n",
       "4    NaN        Doug Walker                     NaN       NaN   \n",
       "5  Color     Andrew Stanton                   462.0     132.0   \n",
       "6  Color          Sam Raimi                   392.0     156.0   \n",
       "7  Color       Nathan Greno                   324.0     100.0   \n",
       "8  Color        Joss Whedon                   635.0     141.0   \n",
       "9  Color        David Yates                   375.0     153.0   \n",
       "\n",
       "   director_facebook_likes  actor_3_facebook_likes       actor_2_name  \\\n",
       "0                      0.0                   855.0   Joel David Moore   \n",
       "1                    563.0                  1000.0      Orlando Bloom   \n",
       "2                      0.0                   161.0       Rory Kinnear   \n",
       "3                  22000.0                 23000.0     Christian Bale   \n",
       "4                    131.0                     NaN         Rob Walker   \n",
       "5                    475.0                   530.0    Samantha Morton   \n",
       "6                      0.0                  4000.0       James Franco   \n",
       "7                     15.0                   284.0       Donna Murphy   \n",
       "8                      0.0                 19000.0  Robert Downey Jr.   \n",
       "9                    282.0                 10000.0   Daniel Radcliffe   \n",
       "\n",
       "   actor_1_facebook_likes        gross  \\\n",
       "0                  1000.0  760505847.0   \n",
       "1                 40000.0  309404152.0   \n",
       "2                 11000.0  200074175.0   \n",
       "3                 27000.0  448130642.0   \n",
       "4                   131.0          NaN   \n",
       "5                   640.0   73058679.0   \n",
       "6                 24000.0  336530303.0   \n",
       "7                   799.0  200807262.0   \n",
       "8                 26000.0  458991599.0   \n",
       "9                 25000.0  301956980.0   \n",
       "\n",
       "                                              genres  ...  \\\n",
       "0                    Action|Adventure|Fantasy|Sci-Fi  ...   \n",
       "1                           Action|Adventure|Fantasy  ...   \n",
       "2                          Action|Adventure|Thriller  ...   \n",
       "3                                    Action|Thriller  ...   \n",
       "4                                        Documentary  ...   \n",
       "5                            Action|Adventure|Sci-Fi  ...   \n",
       "6                           Action|Adventure|Romance  ...   \n",
       "7  Adventure|Animation|Comedy|Family|Fantasy|Musi...  ...   \n",
       "8                            Action|Adventure|Sci-Fi  ...   \n",
       "9                   Adventure|Family|Fantasy|Mystery  ...   \n",
       "\n",
       "  num_user_for_reviews language  country  content_rating       budget  \\\n",
       "0               3054.0  English      USA           PG-13  237000000.0   \n",
       "1               1238.0  English      USA           PG-13  300000000.0   \n",
       "2                994.0  English       UK           PG-13  245000000.0   \n",
       "3               2701.0  English      USA           PG-13  250000000.0   \n",
       "4                  NaN      NaN      NaN             NaN          NaN   \n",
       "5                738.0  English      USA           PG-13  263700000.0   \n",
       "6               1902.0  English      USA           PG-13  258000000.0   \n",
       "7                387.0  English      USA              PG  260000000.0   \n",
       "8               1117.0  English      USA           PG-13  250000000.0   \n",
       "9                973.0  English       UK              PG  250000000.0   \n",
       "\n",
       "   title_year actor_2_facebook_likes imdb_score  aspect_ratio  \\\n",
       "0      2009.0                  936.0        7.9          1.78   \n",
       "1      2007.0                 5000.0        7.1          2.35   \n",
       "2      2015.0                  393.0        6.8          2.35   \n",
       "3      2012.0                23000.0        8.5          2.35   \n",
       "4         NaN                   12.0        7.1           NaN   \n",
       "5      2012.0                  632.0        6.6          2.35   \n",
       "6      2007.0                11000.0        6.2          2.35   \n",
       "7      2010.0                  553.0        7.8          1.85   \n",
       "8      2015.0                21000.0        7.5          2.35   \n",
       "9      2009.0                11000.0        7.5          2.35   \n",
       "\n",
       "  movie_facebook_likes  \n",
       "0                33000  \n",
       "1                    0  \n",
       "2                85000  \n",
       "3               164000  \n",
       "4                    0  \n",
       "5                24000  \n",
       "6                    0  \n",
       "7                29000  \n",
       "8               118000  \n",
       "9                10000  \n",
       "\n",
       "[10 rows x 28 columns]"
      ]
     },
     "execution_count": 4,
     "metadata": {},
     "output_type": "execute_result"
    }
   ],
   "source": [
    "df.head(n=10)"
   ]
  },
  {
   "cell_type": "code",
   "execution_count": 5,
   "metadata": {},
   "outputs": [
    {
     "data": {
      "text/plain": [
       "Index(['color', 'director_name', 'num_critic_for_reviews', 'duration',\n",
       "       'director_facebook_likes', 'actor_3_facebook_likes', 'actor_2_name',\n",
       "       'actor_1_facebook_likes', 'gross', 'genres', 'actor_1_name',\n",
       "       'movie_title', 'num_voted_users', 'cast_total_facebook_likes',\n",
       "       'actor_3_name', 'facenumber_in_poster', 'plot_keywords',\n",
       "       'movie_imdb_link', 'num_user_for_reviews', 'language', 'country',\n",
       "       'content_rating', 'budget', 'title_year', 'actor_2_facebook_likes',\n",
       "       'imdb_score', 'aspect_ratio', 'movie_facebook_likes'],\n",
       "      dtype='object')"
      ]
     },
     "execution_count": 5,
     "metadata": {},
     "output_type": "execute_result"
    }
   ],
   "source": [
    "df.columns"
   ]
  },
  {
   "cell_type": "code",
   "execution_count": 6,
   "metadata": {},
   "outputs": [
    {
     "ename": "AttributeError",
     "evalue": "'DataFrame' object has no attribute 'rows'",
     "output_type": "error",
     "traceback": [
      "\u001b[1;31m---------------------------------------------------------------------------\u001b[0m",
      "\u001b[1;31mAttributeError\u001b[0m                            Traceback (most recent call last)",
      "\u001b[1;32m<ipython-input-6-412feca855b9>\u001b[0m in \u001b[0;36m<module>\u001b[1;34m\u001b[0m\n\u001b[1;32m----> 1\u001b[1;33m \u001b[0mdf\u001b[0m\u001b[1;33m.\u001b[0m\u001b[0mrows\u001b[0m\u001b[1;33m\u001b[0m\u001b[1;33m\u001b[0m\u001b[0m\n\u001b[0m",
      "\u001b[1;32mc:\\users\\seemant aggarwal\\appdata\\local\\programs\\python\\python37\\lib\\site-packages\\pandas\\core\\generic.py\u001b[0m in \u001b[0;36m__getattr__\u001b[1;34m(self, name)\u001b[0m\n\u001b[0;32m   5177\u001b[0m             \u001b[1;32mif\u001b[0m \u001b[0mself\u001b[0m\u001b[1;33m.\u001b[0m\u001b[0m_info_axis\u001b[0m\u001b[1;33m.\u001b[0m\u001b[0m_can_hold_identifiers_and_holds_name\u001b[0m\u001b[1;33m(\u001b[0m\u001b[0mname\u001b[0m\u001b[1;33m)\u001b[0m\u001b[1;33m:\u001b[0m\u001b[1;33m\u001b[0m\u001b[1;33m\u001b[0m\u001b[0m\n\u001b[0;32m   5178\u001b[0m                 \u001b[1;32mreturn\u001b[0m \u001b[0mself\u001b[0m\u001b[1;33m[\u001b[0m\u001b[0mname\u001b[0m\u001b[1;33m]\u001b[0m\u001b[1;33m\u001b[0m\u001b[1;33m\u001b[0m\u001b[0m\n\u001b[1;32m-> 5179\u001b[1;33m             \u001b[1;32mreturn\u001b[0m \u001b[0mobject\u001b[0m\u001b[1;33m.\u001b[0m\u001b[0m__getattribute__\u001b[0m\u001b[1;33m(\u001b[0m\u001b[0mself\u001b[0m\u001b[1;33m,\u001b[0m \u001b[0mname\u001b[0m\u001b[1;33m)\u001b[0m\u001b[1;33m\u001b[0m\u001b[1;33m\u001b[0m\u001b[0m\n\u001b[0m\u001b[0;32m   5180\u001b[0m \u001b[1;33m\u001b[0m\u001b[0m\n\u001b[0;32m   5181\u001b[0m     \u001b[1;32mdef\u001b[0m \u001b[0m__setattr__\u001b[0m\u001b[1;33m(\u001b[0m\u001b[0mself\u001b[0m\u001b[1;33m,\u001b[0m \u001b[0mname\u001b[0m\u001b[1;33m,\u001b[0m \u001b[0mvalue\u001b[0m\u001b[1;33m)\u001b[0m\u001b[1;33m:\u001b[0m\u001b[1;33m\u001b[0m\u001b[1;33m\u001b[0m\u001b[0m\n",
      "\u001b[1;31mAttributeError\u001b[0m: 'DataFrame' object has no attribute 'rows'"
     ]
    }
   ],
   "source": [
    "df.rows"
   ]
  },
  {
   "cell_type": "code",
   "execution_count": 11,
   "metadata": {},
   "outputs": [],
   "source": [
    "titles =  list(df.get('movie_title'))"
   ]
  },
  {
   "cell_type": "code",
   "execution_count": 12,
   "metadata": {},
   "outputs": [
    {
     "name": "stdout",
     "output_type": "stream",
     "text": [
      "['Avatar ', \"Pirates of the Caribbean: At World's End \", 'Spectre ', 'The Dark Knight Rises ', 'Star Wars: Episode VII - The Force Awakens             ', 'John Carter ', 'Spider-Man 3 ', 'Tangled ', 'Avengers: Age of Ultron ', 'Harry Potter and the Half-Blood Prince ', 'Batman v Superman: Dawn of Justice ', 'Superman Returns ', 'Quantum of Solace ', \"Pirates of the Caribbean: Dead Man's Chest \", 'The Lone Ranger ', 'Man of Steel ', 'The Chronicles of Narnia: Prince Caspian ', 'The Avengers ', 'Pirates of the Caribbean: On Stranger Tides ', 'Men in Black 3 ', 'The Hobbit: The Battle of the Five Armies ', 'The Amazing Spider-Man ', 'Robin Hood ', 'The Hobbit: The Desolation of Smaug ', 'The Golden Compass ', 'King Kong ', 'Titanic ', 'Captain America: Civil War ', 'Battleship ', 'Jurassic World ', 'Skyfall ', 'Spider-Man 2 ', 'Iron Man 3 ', 'Alice in Wonderland ', 'X-Men: The Last Stand ', 'Monsters University ', 'Transformers: Revenge of the Fallen ', 'Transformers: Age of Extinction ', 'Oz the Great and Powerful ', 'The Amazing Spider-Man 2 ', 'TRON: Legacy ', 'Cars 2 ', 'Green Lantern ', 'Toy Story 3 ', 'Terminator Salvation ', 'Furious 7 ', 'World War Z ', 'X-Men: Days of Future Past ', 'Star Trek Into Darkness ', 'Jack the Giant Slayer ', 'The Great Gatsby ', 'Prince of Persia: The Sands of Time ', 'Pacific Rim ', 'Transformers: Dark of the Moon ', 'Indiana Jones and the Kingdom of the Crystal Skull ', 'The Good Dinosaur ', 'Brave ', 'Star Trek Beyond ', 'WALL·E ', 'Rush Hour 3 ', '2012 ', 'A Christmas Carol ', 'Jupiter Ascending ', 'The Legend of Tarzan ', 'The Chronicles of Narnia: The Lion, the Witch and the Wardrobe ', 'X-Men: Apocalypse ', 'The Dark Knight ', 'Up ', 'Monsters vs. Aliens ', 'Iron Man ', 'Hugo ', 'Wild Wild West ', 'The Mummy: Tomb of the Dragon Emperor ', 'Suicide Squad ', 'Evan Almighty ', 'Edge of Tomorrow ', 'Waterworld ', 'G.I. Joe: The Rise of Cobra ', 'Inside Out ', 'The Jungle Book ', 'Iron Man 2 ', 'Snow White and the Huntsman ', 'Maleficent ', 'Dawn of the Planet of the Apes ', 'The Lovers ', '47 Ronin ', 'Captain America: The Winter Soldier ', 'Shrek Forever After ', 'Tomorrowland ', 'Big Hero 6 ', 'Wreck-It Ralph ', 'The Polar Express ', 'Independence Day: Resurgence ', 'How to Train Your Dragon ', 'Terminator 3: Rise of the Machines ', 'Guardians of the Galaxy ', 'Interstellar ', 'Inception ', 'Godzilla Resurgence ', 'The Hobbit: An Unexpected Journey ', 'The Fast and the Furious ', 'The Curious Case of Benjamin Button ', 'X-Men: First Class ', 'The Hunger Games: Mockingjay - Part 2 ', \"The Sorcerer's Apprentice \", 'Poseidon ', 'Alice Through the Looking Glass ', 'Shrek the Third ', 'Warcraft ', 'Terminator Genisys ', 'The Chronicles of Narnia: The Voyage of the Dawn Treader ', 'Pearl Harbor ', 'Transformers ', 'Alexander ', 'Harry Potter and the Order of the Phoenix ', 'Harry Potter and the Goblet of Fire ', 'Hancock ', 'I Am Legend ', 'Charlie and the Chocolate Factory ', 'Ratatouille ', 'Batman Begins ', 'Madagascar: Escape 2 Africa ', 'Night at the Museum: Battle of the Smithsonian ', 'X-Men Origins: Wolverine ', 'The Matrix Revolutions ', 'Frozen ', 'The Matrix Reloaded ', 'Thor: The Dark World ', 'Mad Max: Fury Road ', 'Angels & Demons ', 'Thor ', 'Bolt ', 'G-Force ', 'Wrath of the Titans ', 'Dark Shadows ', 'Mission: Impossible - Rogue Nation ', 'The Wolfman ', 'The Legend of Tarzan ', 'Bee Movie ', 'Kung Fu Panda 2 ', 'The Last Airbender ', 'Mission: Impossible III ', 'White House Down ', 'Mars Needs Moms ', 'Flushed Away ', 'Pan ', 'Mr. Peabody & Sherman ', 'Troy ', \"Madagascar 3: Europe's Most Wanted \", 'Die Another Day ', 'Ghostbusters ', 'Armageddon ', 'Men in Black II ', 'Beowulf ', 'Kung Fu Panda 3 ', 'Mission: Impossible - Ghost Protocol ', 'Rise of the Guardians ', 'Fun with Dick and Jane ', 'The Last Samurai ', 'Exodus: Gods and Kings ', 'Star Trek ', 'Spider-Man ', 'How to Train Your Dragon 2 ', 'Gods of Egypt ', 'Stealth ', 'Watchmen ', 'Lethal Weapon 4 ', 'Hulk ', 'G.I. Joe: Retaliation ', 'Sahara ', 'Final Fantasy: The Spirits Within ', 'Captain America: The First Avenger ', 'The World Is Not Enough ', 'Master and Commander: The Far Side of the World ', 'The Twilight Saga: Breaking Dawn - Part 2 ', 'Happy Feet 2 ', 'The Incredible Hulk ', 'Miami Vice             ', 'The BFG ', 'The Revenant ', 'Turbo ', 'Rango ', 'Penguins of Madagascar ', 'The Bourne Ultimatum ', 'Kung Fu Panda ', 'Ant-Man ', 'The Hunger Games: Catching Fire ', 'The Twilight Saga: Breaking Dawn - Part 2 ', 'Home ', 'War of the Worlds ', 'Bad Boys II ', 'Puss in Boots ', 'Salt ', 'Noah ', 'The Adventures of Tintin ', 'Harry Potter and the Prisoner of Azkaban ', 'Australia ', 'After Earth ', 'Dinosaur ', 'Harry Potter and the Deathly Hallows: Part II ', 'Night at the Museum: Secret of the Tomb ', 'Megamind ', \"Harry Potter and the Sorcerer's Stone \", 'R.I.P.D. ', 'Godzilla Resurgence ', 'Pirates of the Caribbean: The Curse of the Black Pearl ', 'Harry Potter and the Deathly Hallows: Part I ', 'The Hunger Games: Mockingjay - Part 1 ', 'The Da Vinci Code ', 'Rio 2 ', 'X-Men 2 ', 'Fast Five ', 'Sherlock Holmes: A Game of Shadows ', 'Clash of the Titans ', 'Total Recall ', 'The 13th Warrior ', 'The Bourne Legacy ', 'Batman & Robin ', 'How the Grinch Stole Christmas ', 'The Day After Tomorrow ', 'Mission: Impossible II ', 'The Perfect Storm ', 'Fantastic 4: Rise of the Silver Surfer ', 'Life of Pi ', 'Ghost Rider ', 'Jason Bourne ', \"Charlie's Angels: Full Throttle \", 'Prometheus ', 'Stuart Little 2 ', 'Elysium ', 'The Chronicles of Riddick ', 'RoboCop ', 'Speed Racer ', 'How Do You Know ', 'Knight and Day ', 'Oblivion ', 'Star Wars: Episode III - Revenge of the Sith ', 'Star Wars: Episode II - Attack of the Clones ', 'Monsters, Inc. ', 'The Wolverine ', 'Star Wars: Episode I - The Phantom Menace ', 'The Croods ', 'Asterix at the Olympic Games ', 'Windtalkers ', \"The Huntsman: Winter's War \", 'Teenage Mutant Ninja Turtles ', 'Gravity ', \"Dante's Peak \", 'Teenage Mutant Ninja Turtles: Out of the Shadows ', 'Fantastic Four ', 'Night at the Museum ', 'San Andreas ', 'Tomorrow Never Dies ', 'The Patriot ', \"Ocean's Twelve \", 'Mr. & Mrs. Smith ', 'Insurgent ', 'The Aviator ', \"Gulliver's Travels \", 'The Green Hornet ', 'The A-Team             ', '300: Rise of an Empire ', 'The Smurfs ', 'Home on the Range ', 'Allegiant ', 'Real Steel ', 'The Smurfs 2 ', 'Speed 2: Cruise Control ', \"Ender's Game \", 'Live Free or Die Hard ', 'The Lord of the Rings: The Fellowship of the Ring ', 'Around the World in 80 Days ', 'Ali ', 'The Cat in the Hat ', 'I, Robot ', 'Kingdom of Heaven ', 'Stuart Little ', 'The Princess and the Frog ', 'The Martian ', '10,000 B.C.             ', 'The Island ', 'Town & Country ', 'Gone in Sixty Seconds ', 'Gladiator ', 'Minority Report ', 'Harry Potter and the Chamber of Secrets ', 'Casino Royale ', 'Planet of the Apes ', 'Terminator 2: Judgment Day ', 'Public Enemies ', 'American Gangster ', 'True Lies ', 'The Taking of Pelham 1 2 3 ', 'Little Fockers ', 'The Other Guys ', 'Eraser ', 'Django Unchained ', 'The Hunchback of Notre Dame ', \"The Emperor's New Groove \", 'The Expendables 2 ', 'National Treasure ', 'Eragon ', 'Where the Wild Things Are ', 'Pan ', 'Epic ', 'The Tourist ', 'End of Days ', 'Blood Diamond ', 'The Wolf of Wall Street ', 'Batman Forever ', 'Starship Troopers ', 'Cloud Atlas ', \"Legend of the Guardians: The Owls of Ga'Hoole \", 'Catwoman ', 'Hercules ', 'Treasure Planet ', 'Land of the Lost ', 'The Expendables 3 ', 'Point Break ', 'Son of the Mask ', 'In the Heart of the Sea ', 'The Adventures of Pluto Nash ', 'Green Zone ', 'The Peanuts Movie ', 'The Spanish Prisoner ', 'The Mummy Returns ', 'Gangs of New York ', 'The Flowers of War ', \"Surf's Up \", 'The Stepford Wives ', 'Black Hawk Down ', 'The Campaign ', 'The Fifth Element ', 'Sex and the City 2 ', 'The Road to El Dorado ', 'Ice Age: Continental Drift ', 'Cinderella ', 'The Lovely Bones ', 'Finding Nemo ', 'The Lord of the Rings: The Return of the King ', 'The Lord of the Rings: The Two Towers ', 'Seventh Son ', 'Lara Croft: Tomb Raider ', 'Transcendence ', 'Jurassic Park III ', 'Rise of the Planet of the Apes ', 'The Spiderwick Chronicles ', 'A Good Day to Die Hard ', 'The Alamo ', 'The Incredibles ', 'Cutthroat Island ', 'Percy Jackson & the Olympians: The Lightning Thief ', 'Men in Black ', 'Toy Story 2 ', 'Unstoppable ', 'Rush Hour 2 ', 'What Lies Beneath ', 'Cloudy with a Chance of Meatballs ', 'Ice Age: Dawn of the Dinosaurs ', 'The Secret Life of Walter Mitty ', \"Charlie's Angels \", 'The Departed ', 'Mulan ', 'Tropic Thunder ', 'The Girl with the Dragon Tattoo ', 'Die Hard with a Vengeance ', 'Sherlock Holmes ', 'Ben-Hur ', 'Atlantis: The Lost Empire ', 'Alvin and the Chipmunks: The Road Chip ', 'Valkyrie ', \"You Don't Mess with the Zohan \", 'Pixels ', 'A.I. Artificial Intelligence ', 'The Haunted Mansion ', 'Contact ', 'Hollow Man ', 'The Interpreter ', 'Percy Jackson: Sea of Monsters ', 'Lara Croft Tomb Raider: The Cradle of Life ', 'Now You See Me 2 ', 'The Saint ', 'Spy Game ', 'Mission to Mars ', 'Rio ', 'Bicentennial Man ', 'Volcano ', \"The Devil's Own \", 'K-19: The Widowmaker ', 'Fantastic Four ', 'Conan the Barbarian ', 'Cinderella Man ', 'The Nutcracker in 3D ', 'Seabiscuit ', 'Twister ', 'The Fast and the Furious ', 'Cast Away ', 'Happy Feet ', 'The Bourne Supremacy ', 'Air Force One ', \"Ocean's Eleven \", 'The Three Musketeers ', 'Hotel Transylvania ', 'Enchanted ', 'Hannibal             ', 'Safe House ', '102 Dalmatians ', 'Tower Heist ', 'The Holiday ', 'Enemy of the State ', \"It's Complicated \", \"Ocean's Thirteen \", 'Open Season ', 'Divergent ', 'Enemy at the Gates ', 'The Rundown ', 'Last Action Hero ', 'Memoirs of a Geisha ', 'The Fast and the Furious: Tokyo Drift ', 'Arthur Christmas ', 'Meet Joe Black ', 'Collateral Damage ', 'All That Jazz ', 'Mirror Mirror ', 'Scott Pilgrim vs. the World ', 'The Core ', 'Nutty Professor II: The Klumps ', 'Scooby-Doo ', 'Dredd ', 'Click ', 'Creepshow ', 'Cats & Dogs: The Revenge of Kitty Galore ', 'Jumper ', 'Hellboy II: The Golden Army ', 'Zodiac ', 'The 6th Day ', 'Bruce Almighty ', 'The Expendables ', 'Mission: Impossible ', 'The Hunger Games ', 'The Hangover Part II ', 'Batman Returns ', 'Over the Hedge ', 'Lilo & Stitch ', \"Charlotte's Web \", 'Deep Impact ', 'RED 2 ', 'The Longest Yard ', 'Alvin and the Chipmunks: Chipwrecked ', 'Grown Ups 2 ', 'Get Smart ', \"Something's Gotta Give \", 'Shutter Island ', 'Four Christmases ', 'Robots ', 'Face/Off ', 'Bedtime Stories ', 'Road to Perdition ', 'Just Go with It ', 'Daredevil             ', 'Con Air ', 'Eagle Eye ', 'Cold Mountain ', 'The Book of Eli ', 'Flubber ', 'The Haunting ', 'Space Jam ', 'The Pink Panther ', 'The Day the Earth Stood Still ', 'Conspiracy Theory ', 'Fury ', 'Six Days Seven Nights ', 'Yogi Bear ', 'Spirit: Stallion of the Cimarron ', 'Zookeeper ', 'Lost in Space ', 'The Manchurian Candidate ', 'Déjà Vu ', 'Hotel Transylvania 2 ', 'Bewitched             ', 'Fantasia 2000 ', 'The Time Machine ', 'Mighty Joe Young ', 'Swordfish ', 'The Legend of Zorro ', 'What Dreams May Come ', 'Little Nicky ', 'The Brothers Grimm ', 'Mars Attacks! ', 'Evolution ', 'The Edge ', 'Surrogates ', 'Thirteen Days ', 'Daylight ', 'Walking with Dinosaurs 3D ', 'Battlefield Earth ', 'Looney Tunes: Back in Action ', 'Nine ', 'Timeline ', 'The Postman ', 'Babe: Pig in the City ', 'The Last Witch Hunter ', 'Red Planet ', 'Arthur and the Invisibles ', 'Oceans ', 'A Sound of Thunder ', 'Pompeii ', 'Top Cat Begins ', 'A Beautiful Mind ', 'The Lion King ', 'Journey 2: The Mysterious Island ', 'Cloudy with a Chance of Meatballs 2 ', 'Red Dragon ', 'Hidalgo ', 'Jack and Jill ', '2 Fast 2 Furious ', 'The Little Prince ', 'The Invasion ', 'The Adventures of Rocky & Bullwinkle ', 'The Secret Life of Pets ', 'The League of Extraordinary Gentlemen ', 'Despicable Me 2 ', 'Independence Day ', 'The Lost World: Jurassic Park ', 'Madagascar ', 'Children of Men ', 'X-Men ', 'Wanted ', 'The Rock ', 'Ice Age: The Meltdown ', '50 First Dates ', 'Hairspray ', 'Exorcist: The Beginning ', 'Inspector Gadget ', 'Now You See Me ', 'Grown Ups ', 'The Terminal ', 'Constantine             ', 'Hotel for Dogs ', 'Vertical Limit ', \"Charlie Wilson's War \", 'Shark Tale ', 'Dreamgirls ', 'Life             ', 'Be Cool ', 'Munich ', 'Tears of the Sun ', 'Killers ', 'The Man from U.N.C.L.E. ', 'Spanglish ', 'Monster House ', 'Bandits ', 'First Knight ', 'Anna and the King ', 'Immortals ', 'Hostage ', 'Titan A.E. ', 'Hollywood Homicide ', 'Soldier ', 'Carriers ', 'Monkeybone ', 'Flight of the Phoenix ', 'Unbreakable ', 'Minions ', 'Sucker Punch ', 'Snake Eyes ', 'Sphere ', 'The Angry Birds Movie ', \"Fool's Gold \", 'Funny People ', 'The Kingdom ', 'Talladega Nights: The Ballad of Ricky Bobby ', 'Dr. Dolittle 2 ', 'Braveheart ', 'Jarhead ', 'The Simpsons Movie ', 'The Majestic ', 'Driven ', 'Two Brothers ', 'The Village ', 'Doctor Dolittle ', 'Signs ', 'Shrek 2 ', 'Cars ', 'Runaway Bride ', 'xXx ', 'The SpongeBob Movie: Sponge Out of Water ', 'Ransom ', 'Inglourious Basterds ', 'Hook ', 'Hercules ', 'Die Hard 2 ', 'S.W.A.T. ', 'Sleepy Hollow             ', 'Vanilla Sky ', 'Lady in the Water ', 'AVP: Alien vs. Predator ', 'Alvin and the Chipmunks: The Squeakquel ', 'We Were Soldiers ', 'Olympus Has Fallen ', 'Star Trek: Insurrection ', 'Battle Los Angeles ', 'Big Fish ', 'Wolf ', 'War Horse ', 'The Monuments Men ', 'The Abyss ', 'Wall Street: Money Never Sleeps ', 'Dracula Untold ', 'The Siege ', 'Stardust ', 'Seven Years in Tibet ', 'The Dilemma ', 'Bad Company ', 'Doom ', 'I Spy ', 'Underworld: Awakening ', 'Rock of Ages ', \"Hart's War \", 'Killer Elite ', 'Rollerball ', 'Ballistic: Ecks vs. Sever ', 'Hard Rain ', 'Osmosis Jones ', \"Legends of Oz: Dorothy's Return \", 'Blackhat ', 'Sky Captain and the World of Tomorrow ', 'Basic Instinct 2 ', 'Escape Plan ', 'The Legend of Hercules ', 'The Sum of All Fears ', 'The Twilight Saga: Eclipse ', 'The Score ', 'Despicable Me ', 'Money Train ', 'Ted 2 ', 'Agora ', 'Mystery Men ', 'Hall Pass ', 'The Insider ', 'The Finest Hours ', 'Body of Lies ', 'Dinner for Schmucks ', 'Abraham Lincoln: Vampire Hunter ', 'Entrapment ', 'Last Man Standing             ', 'The X Files ', 'The Last Legion ', 'Saving Private Ryan ', 'Need for Speed ', 'What Women Want ', 'Ice Age ', 'Dreamcatcher ', 'Lincoln ', 'The Matrix ', 'Apollo 13 ', 'Total Recall ', 'The Santa Clause 2 ', 'Les Misérables ', \"You've Got Mail \", 'Step Brothers ', 'The Mask of Zorro ', 'Due Date ', 'Unbroken ', 'Space Cowboys ', 'Cliffhanger ', 'Broken Arrow ', 'The Kid ', 'World Trade Center ', 'Mona Lisa Smile ', 'The Dictator ', 'Eyes Wide Shut ', 'Annie ', 'Focus ', 'This Means War ', 'Blade: Trinity ', 'Red Dawn ', 'Primary Colors ', 'Resident Evil: Retribution ', 'Death Race ', 'The Long Kiss Goodnight ', 'Proof of Life ', 'Zathura: A Space Adventure ', 'Fight Club ', 'We Are Marshall ', 'The Missing             ', 'Hudson Hawk ', 'Lucky Numbers ', 'I, Frankenstein ', 'Oliver Twist ', 'Elektra ', 'Sin City: A Dame to Kill For ', 'Random Hearts ', 'Everest ', 'Perfume: The Story of a Murderer ', 'Austin Powers in Goldmember ', 'Astro Boy ', 'Jurassic Park ', 'Wyatt Earp ', 'Clear and Present Danger ', 'Dragon Blade ', 'Littleman ', 'U-571 ', 'The American President ', 'The Love Guru ', '3000 Miles to Graceland ', 'The Hateful Eight ', 'Blades of Glory ', 'Hop ', '300 ', 'Meet the Fockers ', 'Marley & Me ', 'The Green Mile ', 'Wild Hogs ', 'Chicken Little ', 'Gone Girl ', 'The Bourne Identity ', 'GoldenEye ', \"The General's Daughter \", 'The Truman Show ', 'The Prince of Egypt ', 'Daddy Day Care ', '2 Guns ', 'Cats & Dogs ', 'The Italian Job ', 'Two Weeks Notice ', 'Antz ', 'Couples Retreat ', 'Days of Thunder ', 'Cheaper by the Dozen 2 ', 'The Scorch Trials ', 'Eat Pray Love ', 'The Family Man ', 'RED ', 'Any Given Sunday ', 'The Horse Whisperer ', 'Collateral ', 'The Scorpion King ', 'Ladder 49 ', 'Jack Reacher ', 'Deep Blue Sea ', 'This Is It ', 'Contagion ', 'Kangaroo Jack ', 'Coraline ', 'The Happening ', 'Man on Fire ', 'The Shaggy Dog ', 'Starsky & Hutch ', 'Jingle All the Way ', 'Hellboy ', 'A Civil Action ', 'ParaNorman ', 'The Jackal ', 'Paycheck ', 'Up Close & Personal ', 'The Tale of Despereaux ', 'Rules of Engagement             ', 'The Tuxedo ', 'Under Siege 2: Dark Territory ', 'Jack Ryan: Shadow Recruit ', 'Joy ', 'London Has Fallen ', 'Alien: Resurrection ', 'Shooter ', 'The Boxtrolls ', 'Practical Magic ', 'The Lego Movie ', 'Miss Congeniality 2: Armed and Fabulous ', 'Reign of Fire ', 'Gangster Squad ', 'Year One ', 'Invictus ', 'State of Play ', 'Duplicity ', 'My Favorite Martian ', 'The Sentinel ', 'Planet 51 ', 'Star Trek: Nemesis ', 'Intolerable Cruelty ', 'Trouble with the Curve ', 'Edge of Darkness ', 'The Relic ', 'Analyze That ', 'Righteous Kill ', 'Mercury Rising ', 'The Soloist ', 'The Legend of Bagger Vance ', 'Almost Famous ', 'Garfield 2 ', 'xXx: State of the Union ', 'Priest ', 'Sinbad: Legend of the Seven Seas ', 'Event Horizon ', 'The Avengers ', 'Dragonfly ', 'The Black Dahlia ', 'Flyboys ', 'The Last Castle ', 'Supernova ', \"Winter's Tale \", 'The Mortal Instruments: City of Bones ', 'Meet Dave ', 'Dark Water ', 'Edtv ', 'Inkheart ', 'The Spirit ', 'Mortdecai ', 'In the Name of the King: A Dungeon Siege Tale ', 'Beyond Borders ', 'Xi you ji zhi: Sun Wukong san da Baigu Jing ', 'The Great Raid ', 'Deadpool ', 'Holy Man ', 'American Sniper ', 'Goosebumps ', 'Sabrina, the Teenage Witch             ', 'Just Like Heaven ', 'The Flintstones in Viva Rock Vegas ', 'Rambo III ', 'Leatherheads ', 'The Ridiculous 6 ', 'Did You Hear About the Morgans? ', 'The Internship ', 'Resident Evil: Afterlife ', 'Red Tails ', 'Sex and the City             ', \"The Devil's Advocate \", \"That's My Boy \", 'DragonHeart ', 'After the Sunset ', 'Ghost Rider: Spirit of Vengeance ', \"Captain Corelli's Mandolin \", 'Anger Management             ', 'The Pacifier ', 'Walking Tall ', 'Forrest Gump ', 'Alvin and the Chipmunks ', 'Meet the Parents ', 'Pocahontas ', 'Superman ', 'The Nutty Professor ', 'Hitch ', 'George of the Jungle ', 'American Wedding ', 'Captain Phillips ', 'Date Night ', 'Casper ', 'The Equalizer ', 'Maid in Manhattan ', 'Crimson Tide ', 'The Pursuit of Happyness ', 'Flightplan ', 'Disclosure ', 'City of Angels ', 'Kill Bill: Vol. 1 ', 'Bowfinger ', 'Stargate SG-1             ', 'Kill Bill: Vol. 2 ', 'Tango & Cash ', 'Death Becomes Her ', 'Shanghai Noon ', 'Executive Decision ', \"Mr. Popper's Penguins \", 'The Forbidden Kingdom ', 'Free Birds ', 'Alien 3 ', 'Evita ', 'Ronin ', 'The Ghost and the Darkness ', 'Paddington ', 'The Watch ', 'The Hunted ', 'Instinct ', 'Stuck on You ', 'Semi-Pro ', 'The Pirates! Band of Misfits ', 'Changeling ', 'Chain Reaction ', 'The Fan ', 'The Phantom of the Opera ', 'Elizabeth: The Golden Age ', 'Æon Flux ', 'Gods and Generals ', 'Turbulence ', 'Imagine That ', 'Muppets Most Wanted ', 'Thunderbirds ', 'Burlesque ', 'A Very Long Engagement ', 'Lolita ', 'Eye See You ', 'Blade II ', 'Seven Pounds ', 'Bullet to the Head ', 'The Godfather: Part III ', 'Elizabethtown ', 'You, Me and Dupree ', 'Superman II ', 'Gigli ', \"All the King's Men \", 'Shaft ', 'Anastasia ', 'Moulin Rouge! ', 'Domestic Disturbance ', 'Black Mass ', 'Flags of Our Fathers ', 'Law Abiding Citizen ', 'Grindhouse ', 'Beloved ', 'Lucky You ', 'Catch Me If You Can ', 'Zero Dark Thirty ', 'The Break-Up ', 'Mamma Mia! ', \"Valentine's Day \", 'The Dukes of Hazzard ', 'The Thin Red Line ', 'The Change-Up ', 'Man on the Moon ', 'Casino ', 'From Paris with Love ', 'Bulletproof Monk ', 'Me, Myself & Irene ', 'Barnyard ', 'Deck the Halls ', 'The Twilight Saga: New Moon ', 'Shrek ', 'The Adjustment Bureau ', 'Robin Hood: Prince of Thieves ', 'Jerry Maguire ', 'Ted ', 'As Good as It Gets ', 'Patch Adams ', 'Anchorman 2: The Legend Continues ', 'Mr. Deeds ', 'Super 8 ', 'Erin Brockovich ', 'How to Lose a Guy in 10 Days ', '22 Jump Street ', 'Interview with the Vampire: The Vampire Chronicles ', 'Yes Man ', 'Central Intelligence ', 'Stepmom ', \"Daddy's Home \", 'Into the Woods ', 'Inside Man ', 'Payback ', 'Congo ', 'We Bought a Zoo ', 'Knowing ', 'Failure to Launch ', 'The Ring Two ', 'Crazy, Stupid, Love. ', 'Garfield ', 'Christmas with the Kranks ', 'Moneyball ', 'Outbreak ', 'Non-Stop ', 'Race to Witch Mountain ', 'V for Vendetta ', 'Shanghai Knights ', 'Unforgotten             ', 'Curious George ', 'Herbie Fully Loaded ', \"Don't Say a Word \", 'Hansel & Gretel: Witch Hunters ', 'Unfaithful ', 'I Am Number Four ', 'Syriana ', '13 Hours ', 'The Book of Life ', 'Firewall ', 'Absolute Power ', 'G.I. Jane ', 'The Game ', 'Silent Hill ', 'The Replacements ', 'American Reunion ', 'The Negotiator ', 'Into the Storm ', 'Beverly Hills Cop III ', 'Gremlins 2: The New Batch ', 'The Judge ', 'The Peacemaker ', 'Resident Evil: Apocalypse ', 'Bridget Jones: The Edge of Reason ', 'Out of Time ', 'On Deadly Ground ', 'The Adventures of Sharkboy and Lavagirl 3-D ', 'The Beach ', 'Raising Helen ', 'Ninja Assassin ', 'For Love of the Game ', 'A Touch of Frost             ', 'Striptease ', 'Marmaduke ', 'Hereafter ', 'Murder by Numbers ', 'Assassins ', 'Hannibal Rising ', 'The Story of Us ', 'The Host ', 'Basic ', 'Blood Work ', 'The International ', 'Escape from L.A. ', 'Twisted             ', 'The Iron Giant ', 'The Life Aquatic with Steve Zissou ', 'Free State of Jones ', 'The Life of David Gale ', 'Man of the House ', 'Run All Night ', 'Eastern Promises ', 'Into the Blue ', 'The Messenger: The Story of Joan of Arc ', 'Your Highness ', 'Dream House ', 'Mad City ', \"Baby's Day Out \", 'The Scarlet Letter ', 'Fair Game ', 'Defiance             ', 'Domino ', 'Jade ', 'Gamer ', 'Beautiful Creatures ', 'Death to Smoochy ', 'Zoolander 2 ', 'The Big Bounce ', 'What Planet Are You From? ', 'Drive Angry ', 'Street Fighter: The Legend of Chun-Li ', 'The One ', 'Outlander             ', 'The Adventures of Ford Fairlane ', 'Pirate Radio ', 'Traffic ', 'Indiana Jones and the Last Crusade ', 'Anna Karenina ', 'Chappie ', 'The Bone Collector ', 'Panic Room ', 'The Tooth Fairy ', 'Three Kings ', 'Child 44 ', 'Rat Race ', 'K-PAX ', 'Kate & Leopold ', 'Bedazzled ', 'The Cotton Club ', '3:10 to Yuma ', 'Taken 3 ', 'Out of Sight ', 'The Cable Guy ', 'Earth ', 'Dick Tracy ', 'The Thomas Crown Affair ', 'Riding in Cars with Boys ', 'First Blood ', 'Solaris ', \"Happily N'Ever After \", 'Mary Reilly ', \"My Best Friend's Wedding \", \"America's Sweethearts \", 'Insomnia ', 'Star Trek: First Contact ', 'Jonah Hex ', 'Courage Under Fire ', 'Liar Liar ', 'The Infiltrator ', 'Inchon ', 'The Flintstones ', 'Taken 2 ', 'Scary Movie 3 ', 'Miss Congeniality ', 'Journey to the Center of the Earth ', 'The Princess Diaries 2: Royal Engagement ', 'The Pelican Brief ', 'The Client ', 'The Bucket List ', 'Patriot Games ', 'Monster-in-Law ', 'Prisoners ', 'Training Day ', 'Galaxy Quest ', 'Scary Movie 2 ', 'The Muppets ', 'Blade ', 'Coach Carter ', 'Changing Lanes ', 'Anaconda ', 'Coyote Ugly ', 'Love Actually ', \"A Bug's Life \", 'From Hell ', 'The Specialist ', 'Tin Cup ', 'Yours, Mine and Ours ', 'Kicking & Screaming ', \"The Hitchhiker's Guide to the Galaxy \", 'Fat Albert ', 'Resident Evil: Extinction ', 'Blended ', 'Last Holiday ', 'The River Wild ', 'The Indian in the Cupboard ', 'Savages ', 'Cellular ', 'Johnny English ', 'The Ant Bully ', 'Dune ', 'Across the Universe ', 'Revolutionary Road ', '16 Blocks ', 'Babylon A.D. ', 'The Glimmer Man ', 'Multiplicity ', 'Aliens in the Attic ', 'The Pledge ', 'The Producers ', 'Dredd ', 'The Phantom ', 'All the Pretty Horses ', 'Nixon ', 'The Ghost Writer ', 'Deep Rising ', 'Miracle at St. Anna ', 'Curse of the Golden Flower ', 'Bangkok Dangerous ', 'Big Trouble ', 'Love in the Time of Cholera ', 'The Returned             ', 'Shadow Conspiracy ', 'Johnny English Reborn ', 'Foodfight! ', 'Argo ', 'The Fugitive ', 'The Bounty Hunter ', 'Sleepers ', 'Rambo: First Blood Part II ', 'The Juror ', 'Pinocchio ', \"Heaven's Gate \", 'Underworld: Evolution ', 'Victor Frankenstein ', 'Finding Forrester ', '28 Days ', 'Unleashed ', 'The Sweetest Thing ', 'The Firm ', 'Charlie St. Cloud ', 'The Mechanic ', '21 Jump Street ', 'Notting Hill ', 'Chicken Run ', 'Along Came Polly ', 'Boomerang ', 'The Heat ', 'Cleopatra ', 'Here Comes the Boom ', 'High Crimes ', 'The Mirror Has Two Faces ', 'The Mothman Prophecies ', 'Brüno ', 'Licence to Kill ', 'Red Riding Hood ', '15 Minutes ', 'Super Mario Bros. ', 'Lord of War ', 'Hero ', 'One for the Money ', 'The Interview ', \"The Warrior's Way \", \"McHale's Navy             \", 'Micmacs ', '8 Mile ', \"Animal Kingdom: Let's go Ape \", \"A Knight's Tale \", 'The Medallion ', 'The Sixth Sense ', 'Man on a Ledge ', 'The Big Year ', 'The Karate Kid ', 'American Hustle ', 'The Proposal ', 'Double Jeopardy ', 'Back to the Future Part II ', 'Lucy ', 'Fifty Shades of Grey ', 'Spy Kids 3-D: Game Over ', 'A Time to Kill ', 'Cheaper by the Dozen ', 'Lone Survivor ', 'A League of Their Own ', 'The Conjuring 2 ', 'The Social Network ', \"He's Just Not That Into You \", 'Scary Movie 4 ', 'Scream 3 ', 'Back to the Future Part III ', 'Get Hard ', \"Bram Stoker's Dracula \", 'Julie & Julia ', '42 ', 'The Talented Mr. Ripley ', 'Dumb and Dumber To ', 'Eight Below ', 'The Intern ', 'Ride Along 2 ', 'The Last of the Mohicans ', 'Ray ', 'Sin City ', 'Vantage Point ', 'I Love You, Man ', 'Shallow Hal ', 'JFK ', \"Big Momma's House 2 \", 'The Mexican ', 'Unbroken ', '17 Again ', 'The Other Woman ', 'The Final Destination ', 'Bridge of Spies ', 'Behind Enemy Lines ', 'Get Him to the Greek ', 'Shall We Dance ', 'Small Soldiers ', 'Spawn ', 'The Count of Monte Cristo ', 'The Lincoln Lawyer ', 'Unknown ', 'The Prestige ', 'Horrible Bosses 2 ', 'Escape from Planet Earth ', 'Apocalypto ', 'The Living Daylights ', 'Predators ', 'Legal Eagles ', 'Secret Window ', 'The Lake House ', 'The Skeleton Key ', 'The Odd Life of Timothy Green ', 'Made of Honor ', 'Jersey Boys ', 'The Rainmaker ', 'Gothika ', 'Amistad ', 'Medicine Man ', 'Aliens vs. Predator: Requiem ', 'Ri¢hie Ri¢h ', 'Autumn in New York ', 'Music and Lyrics ', 'Paul ', 'The Guilt Trip ', 'Scream 4 ', '8MM ', 'The Doors ', 'Sex Tape ', 'Hanging Up ', 'Final Destination 5 ', 'Mickey Blue Eyes ', 'Pay It Forward ', 'Fever Pitch ', 'Arthur             ', 'Drillbit Taylor ', 'A Million Ways to Die in the West ', 'The Shadow ', 'Extremely Loud & Incredibly Close ', 'Morning Glory ', \"Get Rich or Die Tryin' \", 'The Art of War ', 'Rent ', 'Bless the Child ', 'The Out-of-Towners ', 'The Island of Dr. Moreau ', 'The Musketeer ', 'The Other Boleyn Girl ', 'Sweet November ', 'The Reaping ', 'Mean Streets ', 'Renaissance Man ', 'Colombiana ', 'The Magic Sword: Quest for Camelot ', 'City by the Sea ', 'At First Sight ', 'Torque ', 'City Hall ', 'Showgirls ', 'Marie Antoinette ', 'Kiss of Death ', 'Get Carter ', 'The Impossible ', 'Ishtar ', 'Fantastic Mr. Fox ', 'Life or Something Like It ', 'Memoirs of an Invisible Man ', 'Amélie ', 'New York Minute ', 'Alfie ', 'Big Miracle ', 'The Deep End of the Ocean ', 'Feardotcom ', \"Cirque du Freak: The Vampire's Assistant \", 'Victor Frankenstein ', 'Duplex ', 'Soul Men ', 'Raise the Titanic ', 'Universal Soldier: The Return ', 'Pandorum ', 'Impostor ', 'Extreme Ops ', 'Just Visiting ', 'Sunshine ', 'A Thousand Words ', 'Delgo ', 'The Gunman ', 'Alex Rider: Operation Stormbreaker ', 'Disturbia ', 'Hackers ', 'The Hunting Party ', 'The Hudsucker Proxy ', 'The Warlords ', 'Nomad: The Warrior ', 'Snowpiercer ', 'A Monster in Paris ', 'The Last Shot ', 'The Crow ', 'Baahubali: The Beginning ', \"The Time Traveler's Wife \", 'Because I Said So ', 'The Fast and the Furious ', 'Frankenweenie ', 'Serenity ', 'Against the Ropes ', 'Superman III ', 'Grudge Match ', 'Red Cliff ', 'Sweet Home Alabama ', 'The Ugly Truth ', 'Sgt. Bilko ', 'Spy Kids 2: Island of Lost Dreams ', 'Star Trek: Generations ', 'The Grandmaster ', 'Water for Elephants ', '3rd Rock from the Sun             ', \"Dragon Nest: Warriors' Dawn \", 'The Hurricane ', 'Enough ', 'Heartbreakers ', 'Paul Blart: Mall Cop 2 ', 'Angel Eyes ', 'Joe Somebody ', 'The Ninth Gate ', 'Extreme Measures ', 'Rock Star ', 'Precious ', 'White Squall ', 'The Thing ', 'Riddick ', 'Switchback ', 'Texas Rangers ', 'City of Ember ', 'The Master ', 'Virgin Territory ', 'The Express ', 'The 5th Wave ', 'Creed ', 'The Town ', \"What to Expect When You're Expecting \", 'Burn After Reading ', \"Nim's Island \", 'Rush ', 'Magnolia ', 'Cop Out ', 'How to Be Single ', 'Dolphin Tale ', 'Twilight ', 'John Q ', 'Blue Streak ', \"We're the Millers \", 'Obitaemyy ostrov ', 'Breakdown ', 'Never Say Never Again ', 'Hot Tub Time Machine ', 'Dolphin Tale 2 ', 'Reindeer Games ', 'A Man Apart ', 'Aloha ', 'Ghosts of Mississippi ', 'Snow Falling on Cedars ', 'The Rite ', 'Gattaca ', \"Isn't She Great \", 'Space Chimps ', 'Head of State ', 'The Hangover ', 'Ip Man 3 ', 'Austin Powers: The Spy Who Shagged Me ', 'Batman ', 'There Be Dragons ', 'Lethal Weapon 3 ', 'The Blind Side ', 'Rush Hour             ', 'Spy Kids ', 'Horrible Bosses ', 'True Grit ', 'The Devil Wears Prada ', 'Star Trek: The Motion Picture ', 'Identity Thief ', 'Cape Fear ', '21 ', 'Trainwreck ', 'Guess Who ', 'The English Patient ', 'L.A. Confidential ', 'Sky High ', 'In & Out ', 'Species ', 'A Nightmare on Elm Street ', 'The Cell ', 'The Man in the Iron Mask ', 'Secretariat ', 'TMNT ', 'Radio ', 'Friends with Benefits ', 'Neighbors 2: Sorority Rising ', 'Saving Mr. Banks ', 'Malcolm X ', 'This Is 40 ', 'Old Dogs ', 'Underworld: Rise of the Lycans ', 'License to Wed ', 'The Benchwarmers ', 'Must Love Dogs ', 'Donnie Brasco ', 'Resident Evil ', 'Poltergeist ', 'The Ladykillers ', 'Max Payne ', 'In Time ', 'The Back-up Plan ', 'Something Borrowed ', 'Hit the Floor             ', 'Black Knight ', 'The Bad News Bears ', 'Street Fighter ', 'The Pianist ', 'From Hell ', 'The Nativity Story ', 'House of Wax ', 'Closer ', 'J. Edgar ', 'Mirrors ', 'Queen of the Damned ', 'Predator 2 ', 'Untraceable ', 'Blast from the Past ', 'Flash Gordon ', 'Jersey Girl ', 'Alex Cross ', 'Midnight in the Garden of Good and Evil ', 'Heist ', 'Nanny McPhee Returns ', 'Hoffa ', 'The X Files: I Want to Believe ', 'Ella Enchanted ', 'Concussion ', 'Abduction ', 'Valiant ', 'Wonder Boys ', 'Superhero Movie ', 'Broken City ', 'Cursed ', 'Premium Rush ', 'Hot Pursuit ', 'The Four Feathers ', 'Parker ', 'Wimbledon ', 'Furry Vengeance ', 'Bait ', 'Krull ', 'Lions for Lambs ', 'Flight of the Intruder ', 'Walk Hard: The Dewey Cox Story ', 'The Shipping News ', 'American Outlaws ', 'The Young Victoria ', 'Whiteout ', 'The Tree of Life ', 'Knock Off ', 'Sabotage ', 'The Order ', 'Punisher: War Zone ', 'Zoom ', 'The Walk ', 'Warriors of Virtue ', 'A Good Year ', 'Luther             ', 'Radio Flyer ', 'Blood In, Blood Out ', \"Smilla's Sense of Snow \", 'Femme Fatale ', 'Lion of the Desert ', 'The Horseman on the Roof ', 'Ride with the Devil ', 'Biutiful ', 'The Lovers ', 'Bandidas ', 'Black Water Transit ', 'The Maze Runner ', 'Unfinished Business ', 'The Age of Innocence ', 'The Fountain ', 'Chill Factor ', 'Stolen ', 'Ponyo ', 'The Longest Ride ', \"The Astronaut's Wife \", 'I Dreamed of Africa ', 'Playing for Keeps ', 'Mandela: Long Walk to Freedom ', 'Reds ', 'A Few Good Men ', 'Exit Wounds ', \"Big Momma's House \", 'Thunder and the House of Magic ', 'The Darkest Hour ', 'Step Up Revolution ', 'Snakes on a Plane ', 'The Watcher ', 'The Punisher ', 'Goal! The Dream Begins ', 'Safe ', 'Pushing Tin ', 'Star Wars: Episode VI - Return of the Jedi ', 'Doomsday ', 'The Reader ', 'Wanderlust ', 'Elf ', 'Phenomenon ', 'Snow Dogs ', 'Scrooged ', 'Nacho Libre ', 'Bridesmaids ', 'This Is the End ', 'Stigmata ', 'Men of Honor ', 'Takers ', 'The Big Wedding ', 'Big Mommas: Like Father, Like Son ', 'Source Code ', 'Alive ', 'The Number 23 ', 'The Young and Prodigious T.S. Spivet ', '1941 ', 'Dreamer: Inspired by a True Story ', 'A History of Violence ', 'Transporter 2 ', 'The Quick and the Dead ', 'Laws of Attraction ', 'Bringing Out the Dead ', 'Repo Men ', 'Dragon Wars: D-War ', 'Bogus ', 'The Incredible Burt Wonderstone ', \"Cats Don't Dance \", 'Cradle Will Rock ', 'The Good German ', 'George and the Dragon ', 'Apocalypse Now ', 'Going the Distance ', \"Mr. Holland's Opus \", 'Criminal ', 'Out of Africa ', 'Flight ', 'Moonraker ', 'The Grand Budapest Hotel ', 'Hearts in Atlantis ', 'Arachnophobia ', 'Frequency ', 'Ghostbusters ', 'Vacation ', 'Get Shorty ', 'Chicago ', 'Big Daddy ', 'American Pie 2 ', 'Toy Story ', 'Speed ', 'The Vow ', 'Extraordinary Measures ', 'Remember the Titans ', 'The Hunt for Red October ', \"Lee Daniels' The Butler \", 'Dodgeball: A True Underdog Story ', 'The Addams Family ', 'Ace Ventura: When Nature Calls ', 'The Princess Diaries ', 'The First Wives Club ', 'Se7en ', 'District 9 ', 'The SpongeBob SquarePants Movie ', 'Mystic River ', 'Million Dollar Baby ', 'Analyze This ', 'The Notebook ', '27 Dresses ', 'Hannah Montana: The Movie ', 'Rugrats in Paris: The Movie ', 'The Prince of Tides ', 'Legends of the Fall ', 'Up in the Air ', 'About Schmidt ', 'Warm Bodies ', 'Looper ', 'Down to Earth ', 'Babe ', 'Hope Springs ', 'Forgetting Sarah Marshall ', 'Friday Night Lights             ', 'Four Brothers ', 'Baby Mama ', 'Hope Floats ', 'Bride Wars ', 'Without a Paddle ', '13 Going on 30 ', 'Midnight in Paris ', 'The Nut Job ', 'Blow ', 'Message in a Bottle ', 'Star Trek V: The Final Frontier ', 'Like Mike ', 'Naked Gun 33 1/3: The Final Insult ', 'A View to a Kill ', 'The Curse of the Were-Rabbit ', 'P.S. I Love You ', 'Racing Stripes ', 'Atonement ', 'Letters to Juliet ', 'Black Rain ', 'The Three Stooges ', 'Corpse Bride ', 'Glory Road ', 'Sicario ', 'Southpaw ', 'Drag Me to Hell ', 'The Age of Adaline ', 'Secondhand Lions ', 'Step Up 3D ', 'Blue Crush ', 'Stranger Than Fiction ', '30 Days of Night ', 'The Cabin in the Woods ', 'Meet the Spartans ', 'Midnight Run ', 'The Running Man ', 'Little Shop of Horrors ', 'Hanna ', 'The Family             ', 'Mortal Kombat: Annihilation ', 'Larry Crowne ', 'Carrie ', 'Take the Lead ', 'Entourage             ', 'Gridiron Gang ', \"What's the Worst That Could Happen? \", '9 ', 'Side Effects ', 'The Prince and Me ', 'Winnie the Pooh ', 'Dumb and Dumberer: When Harry Met Lloyd ', 'Bulworth ', 'Get on Up ', 'One True Thing ', 'Virtuosity ', 'My Super Ex-Girlfriend ', 'Deliver Us from Evil ', 'Sanctum ', 'Little Black Book ', 'The Five-Year Engagement ', 'Mr 3000 ', 'The Next Three Days ', 'Ultraviolet ', 'Assault on Precinct 13 ', 'The Replacement Killers ', 'Fled ', 'Eight Legged Freaks ', 'Love & Other Drugs ', '88 Minutes ', 'North Country ', 'The Whole Ten Yards ', 'Splice ', 'Howard the Duck ', 'Pride and Glory ', 'The Cave ', 'Alex & Emma ', 'Wicker Park ', 'Fright Night ', 'The New World ', 'Wing Commander ', 'In Dreams ', 'Dragonball: Evolution ', 'The Last Stand ', 'Godsend ', 'Chasing Liberty ', 'Hoodwinked Too! Hood vs. Evil ', 'An Unfinished Life ', 'The Imaginarium of Doctor Parnassus ', \"Barney's Version \", 'Trapped             ', 'Runner Runner ', 'Antitrust ', 'Glory ', 'Once Upon a Time in America ', 'Dead Man Down ', 'The Merchant of Venice ', 'The Good Thief ', 'Supercross ', 'Miss Potter ', 'The Promise ', 'DOA: Dead or Alive ', 'The Assassination of Jesse James by the Coward Robert Ford ', '1911 ', 'Little Nicholas ', 'Wild Card ', 'Machine Gun Preacher ', 'Animals United ', 'The Color of Freedom ', 'United Passions ', 'Grace of Monaco ', \"A Warrior's Tail \", \"Ripley's Game \", 'Sausage Party ', 'Pitch Perfect 2 ', 'Walk the Line ', '12 Monkeys             ', 'Keeping the Faith ', 'The Borrowers ', 'Frost/Nixon ', 'Confessions of a Dangerous Mind ', 'Serving Sara ', 'The Boss ', 'Cry Freedom ', 'Mumford ', 'Seed of Chucky ', 'The Jacket ', 'Aladdin ', 'Straight Outta Compton ', 'Indiana Jones and the Temple of Doom ', 'The Rugrats Movie ', 'Along Came a Spider ', 'Florence Foster Jenkins ', 'Once Upon a Time in Mexico ', 'Die Hard ', 'Role Models ', 'The Big Short ', 'Taking Woodstock ', 'Miracle ', 'Dawn of the Dead ', 'The Wedding Planner ', 'Harlock: Space Pirate ', 'The Royal Tenenbaums ', 'Identity ', 'Last Vegas ', 'For Your Eyes Only ', 'Serendipity ', 'Timecop ', 'Zoolander ', 'Safe Haven ', 'Hocus Pocus ', 'No Reservations ', 'Kick-Ass ', '30 Minutes or Less ', 'Dracula 2000 ', 'Alexander and the Terrible, Horrible, No Good, Very Bad Day ', 'Pride & Prejudice ', 'Blade Runner ', 'Rob Roy ', '3 Days to Kill ', 'We Own the Night ', 'Lost Souls ', 'Winged Migration ', 'Just My Luck ', 'Mystery, Alaska ', 'The Spy Next Door ', 'A Simple Wish ', 'Ghosts of Mars ', 'Our Brand Is Crisis ', 'Pride and Prejudice and Zombies ', 'Kundun ', 'How to Lose Friends & Alienate People ', 'Kick-Ass 2 ', 'Captain Alatriste: The Spanish Musketeer ', 'Brick Mansions ', 'Octopussy ', 'Knocked Up ', \"My Sister's Keeper \", 'Welcome Home, Roscoe Jenkins ', 'A Passage to India ', 'Notes on a Scandal ', 'Rendition ', 'Limitless             ', 'Star Trek VI: The Undiscovered Country ', 'Divine Secrets of the Ya-Ya Sisterhood ', 'The Jungle Book ', 'Kiss the Girls ', 'The Blues Brothers ', 'The Sisterhood of the Traveling Pants 2 ', 'Joyful Noise ', 'About a Boy ', 'Lake Placid ', 'Lucky Number Slevin ', 'The Right Stuff ', 'Anonymous ', 'The NeverEnding Story ', 'Dark City ', 'The Duchess ', 'The Honeymooners             ', 'Return to Oz ', 'The Newton Boys ', 'Case 39 ', 'Suspect Zero ', 'Martian Child ', 'Spy Kids: All the Time in the World in 4D ', 'Money Monster ', 'Formula 51 ', 'Flawless ', 'Mindhunters ', 'What Just Happened ', 'The Statement ', 'The Magic Flute ', 'Paul Blart: Mall Cop ', 'Freaky Friday ', 'The 40-Year-Old Virgin ', 'Shakespeare in Love ', 'A Walk Among the Tombstones ', 'Kindergarten Cop ', 'Pineapple Express ', 'Ever After: A Cinderella Story ', 'Open Range ', 'Flatliners ', \"It's Always Sunny in Philadelphia             \", 'A Bridge Too Far ', 'Red Eye ', 'Final Destination 2 ', 'O Brother, Where Art Thou? ', 'Legion ', 'Pain & Gain ', 'In Good Company ', 'Clockstoppers ', 'Silverado ', 'Brothers ', 'Agent Cody Banks 2: Destination London ', \"New Year's Eve \", 'Original Sin ', 'The Raven ', 'Welcome to Mooseport ', 'Highlander: The Final Dimension ', 'Blood and Wine ', 'Snow White: A Tale of Terror ', 'The Curse of the Jade Scorpion ', 'Accidental Love ', 'Flipper ', 'Self/less ', 'The Constant Gardener ', 'The Passion of the Christ ', 'Mrs. Doubtfire ', 'Rain Man ', 'Gran Torino ', 'W. ', 'Taken ', 'The Best of Me ', 'The Bodyguard ', \"Schindler's List \", 'The Help ', 'The Fifth Estate ', 'Scooby-Doo 2: Monsters Unleashed ', 'Viy ', 'Freddy vs. Jason ', 'The Face of an Angel ', 'Jimmy Neutron: Boy Genius ', 'Cloverfield ', 'Teenage Mutant Ninja Turtles II: The Secret of the Ooze ', 'The Untouchables ', 'No Country for Old Men ', 'Ride Along ', \"Bridget Jones's Diary \", 'Chocolat ', 'Legally Blonde 2: Red, White & Blonde ', 'Parental Guidance ', 'No Strings Attached ', 'Tombstone ', 'Romeo Must Die ', 'The Omen ', 'Final Destination 3 ', 'The Lucky One ', 'Bridge to Terabithia ', 'Finding Neverland ', 'A Madea Christmas ', 'The Grey ', 'Hide and Seek ', 'Anchorman: The Legend of Ron Burgundy ', 'Goodfellas ', 'Agent Cody Banks ', 'Nanny McPhee ', 'Scarface ', 'Nothing to Lose ', 'The Last Emperor ', 'Contraband ', 'Money Talks ', 'There Will Be Blood ', 'The Wild Thornberrys Movie ', 'Rugrats Go Wild ', 'Undercover Brother ', 'The Sisterhood of the Traveling Pants ', 'Kiss of the Dragon ', 'The House Bunny ', 'Beauty Shop ', 'Million Dollar Arm ', 'The Giver ', 'What a Girl Wants ', 'Jeepers Creepers II ', 'Good Luck Chuck ', 'Cradle 2 the Grave ', 'The Hours ', \"She's the Man \", \"Mr. Bean's Holiday \", 'Anacondas: The Hunt for the Blood Orchid ', 'Blood Ties ', 'August Rush ', 'Elizabeth ', 'Bride of Chucky ', 'Tora! Tora! Tora! ', 'Spice World ', 'The Sitter ', 'Dance Flick ', 'The Shawshank Redemption ', 'Crocodile Dundee in Los Angeles ', 'Kingpin ', 'The Gambler ', 'August: Osage County ', 'Ice Princess ', 'A Lot Like Love ', 'Eddie the Eagle ', 'He Got Game ', 'Don Juan DeMarco ', 'Shaun the Sheep             ', 'Dear John ', 'The Losers ', \"Don't Be Afraid of the Dark \", 'War ', 'Punch-Drunk Love ', 'EuroTrip ', 'Half Past Dead ', 'Unaccompanied Minors ', 'Bright Lights, Big City ', 'The Adventures of Pinocchio ', 'The Greatest Game Ever Played ', 'The Box ', 'The Ruins ', 'The Next Best Thing ', 'My Soul to Take ', 'The Girl Next Door ', 'Maximum Risk ', 'Stealing Harvard ', 'Legend ', 'Hot Rod ', 'Shark Night 3D ', \"Angela's Ashes \", 'Draft Day ', 'Lifeforce ', 'The Powerpuff Girls             ', 'The Conspirator ', 'Lords of Dogtown ', 'The 33 ', 'Big Trouble in Little China ', 'A Perfect Plan ', 'Warrior ', 'Michael Collins ', 'Gettysburg ', 'Stop-Loss ', 'Abandon ', 'Brokedown Palace ', 'The Possession ', 'Mrs. Winterbourne ', 'Straw Dogs ', 'The Hoax ', 'Stone Cold ', 'The Road ', 'Sheena ', 'Underclassman ', \"Say It Isn't So \", \"The World's Fastest Indian \", 'Snakes on a Plane ', 'Tank Girl ', \"King's Ransom \", 'Blindness ', 'BloodRayne ', 'Carnage ', 'Where the Truth Lies ', 'Cirque du Soleil: Worlds Away ', 'Without Limits ', 'Me and Orson Welles ', 'The Best Offer ', 'Bad Lieutenant: Port of Call New Orleans ', \"A Turtle's Tale: Sammy's Adventures \", 'Little White Lies ', 'Love Ranch ', \"The True Story of Puss'N Boots \", 'Space Dogs ', 'The Counselor ', 'Ironclad ', 'Waterloo ', 'Kung Fu Killer ', 'Red Sky ', 'Dangerous Liaisons ', 'On the Road ', 'Star Trek IV: The Voyage Home ', 'Rocky Balboa ', 'Point Break ', 'Scream 2 ', 'Jane Got a Gun ', 'Think Like a Man Too ', 'The Whole Nine Yards ', 'Footloose ', 'Old School ', 'The Fisher King ', 'I Still Know What You Did Last Summer ', 'Return to Me ', 'Zack and Miri Make a Porno ', 'Nurse Betty ', 'The Men Who Stare at Goats ', 'Double Take ', 'Girl, Interrupted ', 'Win a Date with Tad Hamilton! ', 'Muppets from Space ', 'The Wiz ', 'Ready to Rumble ', 'Play It to the Bone ', \"I Don't Know How She Does It \", 'Piranha 3D ', 'Beyond the Sea ', 'Meet the Deedles ', 'The Princess and the Cobbler ', 'The Bridge of San Luis Rey ', 'Faster ', \"Howl's Moving Castle \", 'Zombieland ', 'King Kong ', 'The Waterboy ', 'Star Wars: Episode V - The Empire Strikes Back ', 'Bad Boys ', 'The Naked Gun 2½: The Smell of Fear ', 'Final Destination ', 'The Ides of March ', 'Pitch Black ', 'Someone Like You... ', 'Her ', 'Eddie the Eagle ', 'Joy Ride ', 'The Adventurer: The Curse of the Midas Box ', 'Anywhere But Here ', 'Chasing Liberty ', 'The Crew ', 'Haywire ', 'Jaws: The Revenge ', \"Marvin's Room \", 'The Longshots ', 'The End of the Affair ', 'Harley Davidson and the Marlboro Man ', 'In the Valley of Elah ', 'Coco Before Chanel ', 'Forsaken ', 'Chéri ', 'Rogue             ', 'Vanity Fair ', 'Bodyguards and Assassins ', '1408 ', 'Spaceballs ', 'The Water Diviner ', 'Ghost ', \"There's Something About Mary \", 'The Santa Clause ', 'The Rookie ', 'The Game Plan ', 'The Bridges of Madison County ', 'The Animal ', 'Gandhi ', 'The Hundred-Foot Journey ', 'The Net ', 'I Am Sam ', 'Son of God ', 'Underworld ', 'Derailed ', 'The Informant! ', 'Shadowlands ', 'Deuce Bigalow: European Gigolo ', 'Delivery Man ', 'Victor Frankenstein ', 'Our Kind of Traitor ', 'Saving Silverman ', 'Diary of a Wimpy Kid: Dog Days ', 'Summer of Sam ', 'Jay and Silent Bob Strike Back ', 'The Island ', 'The Glass House ', 'Hail, Caesar! ', 'Josie and the Pussycats ', 'Homefront ', 'The Little Vampire ', 'I Heart Huckabees ', 'RoboCop 3 ', 'Megiddo: The Omega Code 2 ', 'Darling Lili ', 'Dudley Do-Right ', 'The Transporter Refueled ', 'The Libertine ', 'Black Book ', 'Joyeux Noel ', 'Hit and Run ', 'Mad Money ', 'Before I Go to Sleep ', 'Sorcerer ', 'Stone ', 'Molière ', 'Out of the Furnace ', 'Michael Clayton ', 'My Fellow Americans ', 'Arlington Road ', 'Underdogs ', 'To Rome with Love ', 'Firefox ', 'South Park: Bigger Longer & Uncut ', 'Death at a Funeral ', 'Teenage Mutant Ninja Turtles III ', 'Hardball ', 'Silver Linings Playbook ', 'Freedom Writers ', 'For Colored Girls ', 'The Transporter ', 'Never Back Down ', 'The Rage: Carrie 2 ', 'The Bachelor             ', 'Away We Go ', 'Swing Vote ', 'Moonlight Mile ', 'Tinker Tailor Soldier Spy ', 'Molly ', 'The Beaver ', 'The Best Little Whorehouse in Texas ', 'eXistenZ ', 'Raiders of the Lost Ark ', 'Home Alone 2: Lost in New York ', 'Close Encounters of the Third Kind ', 'Pulse ', 'Beverly Hills Cop II ', 'Bringing Down the House ', 'The Silence of the Lambs ', \"Wayne's World \", 'Jackass 3D ', 'Jaws 2 ', 'Beverly Hills Chihuahua ', 'The Conjuring ', 'Are We There Yet? ', 'Tammy ', 'Disturbia ', 'School of Rock ', 'Mortal Kombat ', 'Wicker Park ', 'White Chicks ', 'The Descendants ', 'Holes ', 'The Last Song ', '12 Years a Slave ', 'Drumline ', 'Why Did I Get Married Too? ', 'Edward Scissorhands ', 'Me Before You ', \"Madea's Witness Protection \", 'The French Connection ', 'Bad Moms ', 'Date Movie ', 'Return to Never Land ', 'Selma ', 'The Jungle Book 2 ', 'Boogeyman ', 'Premonition ', 'The Tigger Movie ', 'Orphan ', 'Max ', 'Meet the Browns             ', 'Epic Movie ', 'Conan the Barbarian ', 'Spotlight ', 'Lakeview Terrace ', 'The Grudge 2 ', 'How Stella Got Her Groove Back ', \"Bill & Ted's Bogus Journey \", 'Man of the Year ', 'The Black Hole ', 'The American ', 'Selena ', 'Vampires Suck ', 'Babel ', 'This Is Where I Leave You ', 'Doubt ', 'Team America: World Police ', 'Texas Chainsaw 3D ', 'Copycat ', 'Scary Movie 5 ', 'Paint Your Wagon ', 'Milk ', 'Risen ', 'Ghost Ship ', 'A Very Harold & Kumar 3D Christmas ', 'Wild Things ', 'The Stepfather ', 'The Debt ', 'High Fidelity ', 'One Missed Call ', 'Eye for an Eye ', 'The Bank Job ', 'Eternal Sunshine of the Spotless Mind ', 'You Again ', 'Street Kings ', \"The World's End \", 'Nancy Drew ', 'Daybreakers ', \"She's Out of My League \", 'Monte Carlo ', 'Stay Alive ', 'Quigley Down Under ', 'Alpha and Omega ', 'The Covenant ', 'Stick It ', 'Shorts ', 'To Die For ', 'Nerve ', 'Appaloosa ', 'Vampires ', 'Yu-Gi-Oh! Duel Monsters             ', 'Psycho ', \"My Best Friend's Girl \", 'Endless Love ', 'Georgia Rule ', 'Under the Rainbow ', 'Ladyhawke ', 'Simon Birch ', 'Reign Over Me ', 'Into the Wild ', 'School for Scoundrels ', 'Silent Hill: Revelation 3D ', 'From Dusk Till Dawn ', \"Pooh's Heffalump Movie \", 'Home for the Holidays ', 'Kung Fu Hustle ', 'Fired Up             ', 'The Country Bears ', 'The Kite Runner ', '21 Grams ', 'Paparazzi ', 'Twilight ', 'A Guy Thing ', 'Loser ', 'Capitalism: A Love Story ', 'The Greatest Story Ever Told ', 'Secret in Their Eyes ', 'Disaster Movie ', 'Armored ', 'The Man Who Knew Too Little ', \"What's Your Number? \", 'Lockout ', 'Envy ', 'Crank: High Voltage ', 'Bullets Over Broadway ', 'One Night with the King ', 'The Quiet American ', 'The Weather Man ', 'Undisputed ', 'Ghost Town ', '12 Rounds ', 'Let Me In ', '3 Ninjas Kick Back ', 'Be Kind Rewind ', 'Mrs Henderson Presents ', 'Triple 9 ', 'Deconstructing Harry ', 'Three to Tango ', 'Burnt ', \"We're No Angels \", 'Everyone Says I Love You ', 'Death at a Funeral ', 'Death Sentence ', \"Everybody's Fine \", 'Superbabies: Baby Geniuses 2 ', 'The Man ', 'Code Name: The Cleaner ', 'Connie and Carla ', 'Sweet Charity ', 'Inherent Vice ', 'Doogal ', 'Battle of the Year ', 'Perception             ', 'An American Carol ', 'Machete Kills ', 'Willard ', 'Strange Wilderness ', 'Topsy-Turvy ', 'Little Boy ', 'A Dangerous Method ', 'A Scanner Darkly ', 'Chasing Mavericks ', 'Alone in the Dark ', 'Bandslam ', 'Birth ', 'A Most Violent Year ', 'Passchendaele ', 'Flash of Genius ', \"I'm Not There. \", 'The Cold Light of Day ', 'The Brothers Bloom ', 'Synecdoche, New York ', 'Princess Mononoke ', 'Bon voyage ', \"Can't Stop the Music \", 'The Proposition ', 'Courage ', 'Marci X ', 'Equilibrium ', 'The Children of Huang Shi ', 'The Yards ', 'The Oogieloves in the Big Balloon Adventure ', 'By the Sea ', 'Steamboy ', 'The Game of Their Lives ', 'All Good Things ', 'Rapa Nui ', 'CJ7 ', 'Les couloirs du temps: Les visiteurs II ', 'Dylan Dog: Dead of Night ', 'People I Know ', 'The Doombolt Chase             ', 'The Tempest ', 'Regression ', 'The Touch ', 'Three Kingdoms: Resurrection of the Dragon ', 'Shattered ', 'Zambezia ', 'Ramanujan ', 'Dwegons and Leprechauns ', 'Hands of Stone ', 'Survivor ', 'The Frozen Ground ', 'The Painted Veil ', 'The Baader Meinhof Complex ', 'Dances with Wolves ', 'Bad Teacher ', 'Sea of Love ', 'A Cinderella Story ', 'Scream ', 'Thir13en Ghosts ', 'The Shining ', 'Back to the Future ', 'House on Haunted Hill ', 'I Can Do Bad All by Myself ', 'Fight Valley ', 'The Switch ', 'Just Married ', \"The Devil's Double \", 'Gone, Baby, Gone             ', 'Thomas and the Magic Railroad ', 'The Crazies ', 'Spirited Away ', 'Firestorm ', 'The Bounty ', 'The Book Thief ', 'Sex Drive ', 'Leap Year ', 'The Fall of the Roman Empire ', 'Take Me Home Tonight ', \"Won't Back Down \", 'The Nutcracker ', 'Kansas City ', 'Indignation ', 'The Amityville Horror ', 'Adaptation. ', 'Land of the Dead ', 'Out of Inferno ', 'Fear and Loathing in Las Vegas ', 'The Invention of Lying ', 'Neighbors ', 'The Mask ', 'Big ', 'Borat: Cultural Learnings of America for Make Benefit Glorious Nation of Kazakhstan ', 'Legally Blonde ', 'Star Trek III: The Search for Spock ', 'The Exorcism of Emily Rose ', 'Deuce Bigalow: Male Gigolo ', 'Left Behind ', 'The Family Stone ', 'Barbershop 2: Back in Business ', 'Bad Santa ', 'Austin Powers: International Man of Mystery ', 'My Big Fat Greek Wedding 2 ', 'Diary of a Wimpy Kid: Rodrick Rules ', 'Predator ', 'Amadeus ', 'Prom Night ', 'Mean Girls ', 'Under the Tuscan Sun ', 'Gosford Park ', 'The O.C.             ', 'Peggy Sue Got Married ', 'Birdman or (The Unexpected Virtue of Ignorance) ', 'Blue Jasmine ', 'United 93 ', 'Honey ', 'Glory ', 'Spy Hard ', 'The Fog ', 'Soul Surfer ', 'Catch-22 ', 'Observe and Report ', 'Conan the Destroyer ', 'Raging Bull ', 'Love Happens ', 'Young Sherlock Holmes ', 'Fame ', '127 Hours ', 'Small Time Crooks ', 'Center Stage ', 'Love the Coopers ', 'Catch That Kid ', 'Life as a House ', 'Steve Jobs ', 'I Love You, Beth Cooper ', 'Youth in Revolt ', 'The Legend of the Lone Ranger ', 'The Tailor of Panama ', 'Blow Out ', 'Getaway ', 'The Ice Storm ', 'And So It Goes ', 'Troop Beverly Hills ', 'Being Julia ', '9½ Weeks ', 'Dragonslayer ', 'The Last Station ', 'Ed Wood ', 'Labor Day ', 'Mongol: The Rise of Genghis Khan ', 'RocknRolla ', 'Megaforce ', 'Hamlet ', \"Mao's Last Dancer \", 'Midnight Special ', 'Anything Else ', 'The Railway Man ', 'Unforgettable             ', 'The White Ribbon ', 'Restoration ', 'The Wraith ', 'The Salton Sea ', 'Metallica Through the Never ', 'The Informers ', 'Carlos             ', 'I Come with the Rain ', \"One Man's Hero \", 'Day of the Dead ', 'I Am Wrath ', 'Renaissance ', 'Forsaken ', 'Red Sonja ', 'Red Lights ', 'Superbad ', 'Madea Goes to Jail ', 'Wolves ', 'Step Up 2: The Streets ', 'Hoodwinked! ', 'Hotel Rwanda ', 'Hitman ', 'Black Nativity ', 'The Prince ', 'City of Ghosts ', 'The Others ', 'Aliens ', 'My Fair Lady ', 'I Know What You Did Last Summer ', \"Let's Be Cops \", 'Sideways ', 'Beerfest ', 'Halloween ', 'Hero ', 'Good Boy! ', 'The Best Man Holiday ', \"Smokin' Aces \", 'Saw 3D: The Final Chapter ', '40 Days and 40 Nights ', 'TRON: Legacy ', 'A Night at the Roxbury ', 'Beastly ', 'The Hills Have Eyes ', 'Dickie Roberts: Former Child Star ', 'McFarland, USA ', 'Lottery Ticket ', 'ATL ', 'Pitch Perfect ', 'Summer Catch ', 'A Simple Plan ', 'They ', 'Larry the Cable Guy: Health Inspector ', 'The Adventures of Elmo in Grouchland ', \"Brooklyn's Finest \", '55 Days at Peking ', 'Evil Dead ', 'My Life in Ruins ', 'American Dreamz ', 'Superman IV: The Quest for Peace ', 'How She Move ', 'Running Scared ', 'Bobby Jones: Stroke of Genius ', 'Shanghai Surprise ', 'The Illusionist ', 'Roar ', 'Veronica Guerin ', 'Escobar: Paradise Lost ', 'Southland Tales ', 'Dragon Hunters ', 'Damnation Alley ', 'The Apparition ', 'My Girl ', 'Fur: An Imaginary Portrait of Diane Arbus ', 'The Illusionist ', 'Wall Street ', 'Sense and Sensibility ', 'Becoming Jane ', 'Sydney White ', 'House of Sand and Fog ', 'Dead Poets Society ', 'Dumb & Dumber ', 'When Harry Met Sally... ', 'The Verdict ', 'Road Trip ', 'Varsity Blues ', 'The Artist ', 'The Unborn ', 'Moonrise Kingdom ', 'The Texas Chainsaw Massacre: The Beginning ', 'The Young Messiah ', 'The Master of Disguise ', \"Pan's Labyrinth \", 'The Messengers             ', 'See Spot Run ', 'Baby Boy ', 'The Roommate ', 'Joe Dirt ', 'Double Impact ', 'Hot Fuzz ', 'The Women ', 'Vicky Cristina Barcelona ', 'Arn: The Knight Templar ', 'Bad Moms ', 'Boys and Girls ', 'White Oleander ', \"Jennifer's Body \", 'Drowning Mona ', 'Radio Days ', 'Left Behind ', 'Remember Me ', 'How to Deal ', 'My Stepmother Is an Alien ', 'Philadelphia ', 'The Thirteenth Floor ', 'The Cookout ', 'Meteor ', 'Duets ', 'Hollywood Ending ', 'Detroit Rock City ', 'Highlander ', 'Things We Lost in the Fire ', 'Steel ', 'The Immigrant ', 'The White Countess ', 'Trance ', 'Soul Plane ', 'Welcome to the Sticks ', 'Good ', 'Enter the Void ', 'Vamps ', \"Hachi: A Dog's Tale \", 'Zulu ', 'The Homesman ', 'Juwanna Mann ', 'Lilyhammer             ', 'Ararat ', 'Madison ', 'Slow Burn ', 'Wasabi ', 'Slither ', 'Beverly Hills Cop ', 'Home Alone ', '3 Men and a Baby ', 'Tootsie ', 'Top Gun ', 'Crouching Tiger, Hidden Dragon ', 'American Beauty ', \"The King's Speech \", 'Twins ', 'Scream: The TV Series             ', 'The Yellow Handkerchief ', 'The Color Purple ', 'Tidal Wave ', 'Ben-Hur ', 'The Imitation Game ', 'Private Benjamin ', \"Coal Miner's Daughter \", 'Diary of a Wimpy Kid ', 'Mama ', 'Halloween ', \"National Lampoon's Vacation \", 'Bad Grandpa ', 'The Queen ', 'Beetlejuice ', 'Why Did I Get Married? ', 'Little Women ', 'The Woman in Black ', 'When a Stranger Calls ', 'Big Fat Liar ', 'The Deer Hunter ', 'Wag the Dog ', 'The Lizzie McGuire Movie ', 'Snitch ', 'Krampus ', 'The Faculty ', \"What's Love Got to Do with It \", 'Cop Land ', 'Not Another Teen Movie ', 'End of Watch ', 'Aloha ', 'The Skulls ', 'The Theory of Everything ', \"Malibu's Most Wanted \", 'Where the Heart Is ', 'Lawrence of Arabia ', 'Halloween II ', 'Wild ', 'The Last House on the Left ', 'The Wedding Date ', 'Halloween: Resurrection ', 'Clash of the Titans ', 'The Princess Bride ', 'The Great Debaters ', 'Drive ', 'Confessions of a Teenage Drama Queen ', 'The Object of My Affection ', '28 Weeks Later ', 'When the Game Stands Tall ', 'Because of Winn-Dixie ', 'Love & Basketball ', 'Grosse Pointe Blank ', 'All About Steve ', 'Book of Shadows: Blair Witch 2 ', 'The Craft ', 'Match Point ', 'Ramona and Beezus ', 'The Remains of the Day ', 'Boogie Nights ', 'Nowhere to Run ', 'Flicka ', 'The Hills Have Eyes II ', 'Urban Legends: Final Cut ', 'Tuck Everlasting ', 'The Marine ', 'Keanu ', 'Country Strong ', 'Disturbing Behavior ', 'The Place Beyond the Pines ', 'The November Man ', 'Eye of the Beholder ', 'The Hurt Locker ', 'Firestarter ', 'Killing Them Softly ', 'A Most Wanted Man ', 'Freddy Got Fingered ', \"The Pirates Who Don't Do Anything: A VeggieTales Movie \", 'U2 3D ', 'Highlander: Endgame ', 'Idlewild ', 'One Day ', 'Whip It ', 'Knockaround Guys ', 'Confidence ', 'The Muse ', 'De-Lovely ', 'New York Stories ', \"Barney's Great Adventure \", 'The Man with the Iron Fists ', 'Home Fries ', 'Here on Earth ', 'Brazil ', 'Raise Your Voice ', 'The Dead Zone             ', 'The Big Lebowski ', 'Black Snake Moan ', 'Dark Blue ', 'A Mighty Heart ', 'Whatever It Takes ', 'Boat Trip ', 'The Importance of Being Earnest ', 'The Love Letter ', 'Hoot ', 'In Bruges ', 'Peeples ', 'The Rocker ', 'Post Grad ', 'Promised Land ', 'Whatever Works ', 'The In Crowd ', 'Three Burials ', 'Jakob the Liar ', 'Kiss Kiss Bang Bang ', 'Idle Hands ', 'Mulholland Drive ', 'Blood and Chocolate ', 'You Will Meet a Tall Dark Stranger ', 'Never Let Me Go ', 'The Company             ', 'Transsiberian ', 'The Clan of the Cave Bear ', 'Crazy in Alabama ', 'Funny Games ', 'Listening ', \"Felicia's Journey \", 'Metropolis ', 'District B13 ', \"Things to Do in Denver When You're Dead \", 'The Assassin ', 'Buffalo Soldiers ', 'The Return ', 'Ong-bak 2 ', 'Centurion ', 'Silent Trigger ', 'The Midnight Meat Train ', 'Winnie Mandela ', 'The Son of No One ', \"All the Queen's Men \", 'The Good Night ', 'Bathory: Countess of Blood ', 'Khumba ', 'Automata ', 'Dungeons & Dragons: Wrath of the Dragon God ', 'Chiamatemi Francesco - Il Papa della gente ', 'Shinjuku Incident ', 'Pandaemonium ', 'Groundhog Day ', 'Magic Mike XXL ', 'Romeo + Juliet ', \"Sarah's Key \", 'Freedom ', 'Unforgiven ', 'Manderlay ', 'Slumdog Millionaire ', 'Fatal Attraction ', 'Pretty Woman ', 'Towering Inferno             ', 'Crocodile Dundee II ', 'Broken Horses ', 'Born on the Fourth of July ', 'Cool Runnings ', 'My Bloody Valentine ', 'The Possession ', 'First Blood ', 'Stomp the Yard ', 'The Spy Who Loved Me ', 'Ghost Hunters             ', 'Urban Legend ', 'Dangerous Liaisons ', 'Good Deeds ', 'White Fang ', 'Superstar ', 'The Iron Lady ', 'Jonah: A VeggieTales Movie ', 'Poetic Justice ', 'All About the Benjamins ', 'Vampire in Brooklyn ', 'Exorcist II: The Heretic ', 'An American Haunting ', \"My Boss's Daughter \", 'A Perfect Getaway ', 'Our Family Wedding ', 'Dead Man on Campus ', 'Tea with Mussolini ', 'Thinner ', 'New York, New York ', 'Crooklyn ', 'I Think I Love My Wife ', 'Jason X ', 'Big Fat Liar ', 'Bobby ', 'Head Over Heels ', 'Fun Size ', 'The Diving Bell and the Butterfly ', 'Little Children ', 'Gossip ', 'A Walk on the Moon ', 'Catch a Fire ', 'Soul Survivors ', 'Jefferson in Paris ', 'Easy Virtue ', 'Caravans ', 'Mr. Turner ', 'Wild Grass ', 'Amen. ', 'Reign of Assassins ', 'The Lucky Ones ', 'Margaret ', 'Stan Helsing ', 'Flipped ', 'Brokeback Mountain ', 'Teenage Mutant Ninja Turtles ', 'Clueless ', 'Far from Heaven ', 'Hot Tub Time Machine 2 ', 'Dekalog             ', 'Quills ', 'Seven Psychopaths ', \"The Caveman's Valentine \", 'The Border             ', 'Downfall ', 'The Sea Inside ', 'Under the Skin ', 'Good Morning, Vietnam ', 'The Last Godfather ', 'Justin Bieber: Never Say Never ', 'Black Swan ', 'RoboCop ', 'The Godfather: Part II ', 'Save the Last Dance ', 'A Nightmare on Elm Street 4: The Dream Master ', 'Miracles from Heaven ', \"Dude, Where's My Car? \", 'Young Guns ', 'St. Vincent ', 'About Last Night ', '10 Things I Hate About You ', 'The New Guy ', 'Loaded Weapon 1 ', 'The Shallows ', 'The Butterfly Effect ', 'Snow Day ', 'This Christmas ', 'Baby Geniuses ', 'The Big Hit ', 'Harriet the Spy ', \"Child's Play 2 \", 'No Good Deed ', 'The Mist ', 'Ex Machina ', 'Being John Malkovich ', 'Two Can Play That Game ', 'Earth to Echo ', 'Crazy/Beautiful ', 'Letters from Iwo Jima ', 'The Astronaut Farmer ', 'Woo ', 'Room ', 'Dirty Work ', 'Serial Mom ', 'Dick ', 'Del 1 - Män som hatar kvinnor             ', 'Light It Up ', '54 ', 'Bubble Boy ', 'Birthday Girl ', '21 & Over ', \"Paris, je t'aime \", 'Resurrecting the Champ ', 'Admission ', 'The Widow of Saint-Pierre ', 'Chloe ', 'Faithful ', 'Brothers ', 'Find Me Guilty ', 'The Perks of Being a Wallflower ', 'Excessive Force ', 'Infamous ', 'The Claim ', 'The Vatican Tapes ', 'Attack the Block ', 'In the Land of Blood and Honey ', 'The Call ', 'Operation Chromite ', 'The Crocodile Hunter: Collision Course ', 'I Love You Phillip Morris ', 'Quest for Fire ', 'Antwone Fisher ', \"The Emperor's Club \", 'True Romance ', 'Womb ', 'Glengarry Glen Ross ', 'The Killer Inside Me ', 'Cat People ', 'Sorority Row ', 'The Prisoner of Zenda ', 'Lars and the Real Girl ', 'The Boy in the Striped Pajamas ', 'Dancer in the Dark ', 'Oscar and Lucinda ', 'The Funeral ', 'Solitary Man ', 'Machete ', 'Casino Jack ', 'The Land Before Time ', 'Tae Guk Gi: The Brotherhood of War ', 'The Perfect Game ', 'The Exorcist ', 'Jaws ', 'American Pie ', 'Ernest & Celestine ', 'The Golden Child ', 'Think Like a Man ', 'Barbershop ', 'Star Trek II: The Wrath of Khan ', 'Ace Ventura: Pet Detective ', 'WarGames ', 'Witness ', 'Act of Valor ', 'Step Up ', 'Beavis and Butt-Head Do America ', 'Jackie Brown ', 'Harold & Kumar Escape from Guantanamo Bay ', 'Chronicle ', 'Yentl ', 'Time Bandits ', 'Crossroads ', 'Project X ', 'Patton ', 'One Hour Photo ', 'Quarantine ', 'The Eye ', 'Johnson Family Vacation ', 'How High ', 'The Muppet Christmas Carol ', 'Casino Royale ', 'Frida ', 'Katy Perry: Part of Me ', 'The Fault in Our Stars ', 'Rounders ', 'Top Five ', 'Prophecy ', 'Stir of Echoes ', 'Spartacus: War of the Damned             ', 'Philomena ', 'The Upside of Anger ', 'The Boys from Brazil ', 'Aquamarine ', 'Paper Towns ', \"My Baby's Daddy \", 'Nebraska ', 'Tales from the Crypt: Demon Knight ', \"Max Keeble's Big Move \", 'Young Adult ', 'Crank ', 'How to Be a Player ', 'Living Out Loud ', 'Just Wright ', 'Rachel Getting Married ', 'The Postman Always Rings Twice ', 'Girl with a Pearl Earring ', 'Das Boot ', 'The Alamo ', 'Sorority Boys ', 'About Time ', 'House of Flying Daggers ', 'Arbitrage ', 'Project Almanac ', 'Cadillac Records ', 'Screwed ', 'Fortress ', 'For Your Consideration ', 'Celebrity ', 'Running with Scissors ', 'From Justin to Kelly ', 'Girl 6 ', 'In the Cut ', 'Two Lovers ', 'Last Orders ', 'The Host ', 'The Pursuit of D.B. Cooper ', 'Ravenous ', 'Charlie Bartlett ', 'The Great Beauty ', 'The Dangerous Lives of Altar Boys ', 'Stoker ', '2046 ', 'Married Life ', 'Duma ', 'Ondine ', 'Brother ', 'Welcome to Collinwood ', 'Critical Care ', 'The Life Before Her Eyes ', 'Darling Companion ', 'Trade ', 'Fateless ', 'Breakfast of Champions ', 'A Woman, a Gun and a Noodle Shop ', 'Cypher ', 'City of Life and Death ', 'Home ', 'Legend of Kung Fu Rabbit ', 'Space Battleship Yamato ', '5 Days of War ', 'Triangle ', '10 Days in a Madhouse ', 'Heaven Is for Real ', 'Snatch ', \"Dancin' It's On \", 'Pet Sematary ', 'Madadayo ', 'The Cry of the Owl ', 'A Tale of Three Cities ', 'Gremlins ', 'Star Wars: Episode IV - A New Hope ', 'Dirty Grandpa ', 'Doctor Zhivago ', 'Trash ', 'High School Musical 3: Senior Year ', 'The Fighter ', 'Jackass Number Two ', 'My Cousin Vinny ', 'If I Stay ', 'Drive Hard ', 'Major League ', \"St. Trinian's \", 'Phone Booth ', 'A Walk to Remember ', 'Dead Man Walking ', 'Cruel Intentions ', 'Saw VI ', 'History of the World: Part I ', 'The Secret Life of Bees ', 'Corky Romano ', 'Raising Cain ', 'F.I.S.T. ', 'Invaders from Mars ', 'Brooklyn ', 'Barry Lyndon ', 'Out Cold ', 'The Ladies Man ', 'Quartet ', 'Tomcats ', 'Frailty ', 'Woman in Gold ', 'Kinsey ', 'Army of Darkness ', 'Slackers ', \"What's Eating Gilbert Grape \", 'The Visual Bible: The Gospel of John ', 'Vera Drake ', 'The Guru ', 'The Perez Family ', 'Inside Llewyn Davis ', 'O ', 'Return to the Blue Lagoon ', 'The Molly Maguires ', 'Romance & Cigarettes ', 'Copying Beethoven ', 'Poltergeist ', 'Brighton Rock ', 'Saw V ', 'Machine Gun McCain ', 'LOL ', 'Jindabyne ', 'Kabhi Alvida Naa Kehna ', 'An Ideal Husband ', 'The Last Days on Mars ', 'Darkness ', '2001: A Space Odyssey ', 'E.T. the Extra-Terrestrial ', 'In the Land of Women ', 'The Blue Butterfly ', 'There Goes My Baby ', 'Lovesick             ', 'Housefull ', 'September Dawn ', 'For Greater Glory: The True Story of Cristiada ', 'La Famille Bélier ', 'Good Will Hunting ', 'Misconduct ', 'Saw III ', 'Stripes ', 'Bring It On ', 'The Purge: Election Year ', \"She's All That \", 'Precious ', 'Saw IV ', 'White Noise ', \"Madea's Family Reunion \", 'The Color of Money ', 'The Longest Day ', 'The Mighty Ducks ', 'The Grudge ', 'Happy Gilmore ', 'Jeepers Creepers ', \"Bill & Ted's Excellent Adventure \", 'Oliver! ', 'The Best Exotic Marigold Hotel ', \"Recess: School's Out \", 'Mad Max Beyond Thunderdome ', 'Commando ', 'The Boy ', 'Devil ', 'Friday After Next ', 'Insidious: Chapter 3 ', 'The Last Dragon ', 'Snatch ', 'The Lawnmower Man ', \"Nick and Norah's Infinite Playlist \", 'Dogma ', 'The Banger Sisters ', 'Twilight Zone: The Movie ', 'Road House ', 'A Low Down Dirty Shame ', 'Swimfan ', 'Employee of the Month ', \"Can't Hardly Wait \", 'The Outsiders ', \"Pete's Dragon \", 'The Dead Zone ', 'Sinister 2 ', 'Sparkle ', 'Valentine ', 'The Fourth Kind ', 'A Prairie Home Companion ', 'Sugar Hill ', 'Invasion U.S.A. ', 'Roll Bounce ', 'Rushmore ', 'Skyline ', 'The Second Best Exotic Marigold Hotel ', 'Kit Kittredge: An American Girl ', 'The Perfect Man ', \"Mo' Better Blues \", 'Kung Pow: Enter the Fist ', 'Tremors ', 'Wrong Turn ', 'The Long Riders ', 'The Corruptor ', 'Mud ', 'Reno 911!: Miami ', 'One Direction: This Is Us ', 'The Goods: Live Hard, Sell Hard ', 'Hey Arnold! The Movie ', 'My Week with Marilyn ', 'The Matador ', 'Love Jones ', 'The Gift ', 'End of the Spear ', 'Get Over It ', 'Office Space ', 'Drop Dead Gorgeous ', 'Big Eyes ', 'Very Bad Things ', 'Sleepover ', 'Body Double ', 'MacGruber ', 'Dirty Pretty Things ', 'Movie 43 ', 'The Tourist ', 'Over Her Dead Body ', 'Seeking a Friend for the End of the World ', 'Cedar Rapids ', 'Bones             ', 'American History X ', 'The Collection ', \"Teacher's Pet \", 'The Red Violin ', 'The Straight Story ', 'Deuces Wild ', 'Bad Words ', 'Run, Fatboy, Run ', 'Heartbeeps ', 'Black or White ', 'On the Line ', 'Rescue Dawn ', 'Danny Collins ', 'Jeff, Who Lives at Home ', 'I Am Love ', 'Atlas Shrugged II: The Strike ', 'Romeo Is Bleeding ', 'The Limey ', 'Crash ', 'The House of Mirth ', 'Malone ', 'Peaceful Warrior ', 'Bucky Larson: Born to Be a Star ', 'Bamboozled ', 'The Forest ', 'Sphinx ', \"While We're Young \", 'A Better Life ', 'Spider ', 'Gun Shy ', 'Nicholas Nickleby ', 'The Iceman ', 'Dekalog             ', 'Krrish ', 'Cecil B. DeMented ', 'Killer Joe ', 'The Joneses ', 'Owning Mahowny ', 'The Brothers Solomon ', 'My Blueberry Nights ', 'Illuminata ', 'Swept Away ', 'War, Inc. ', 'Shaolin Soccer ', 'The Brown Bunny ', 'The Swindle ', 'Rosewater ', 'The Chambermaid on the Titanic ', 'Coriolanus ', 'Imaginary Heroes ', 'High Heels and Low Lifes ', \"World's Greatest Dad \", 'Severance ', 'Edmond ', 'Welcome to the Rileys ', 'Police Academy: Mission to Moscow ', 'Blood Done Sign My Name ', 'Cinco de Mayo, La Batalla ', 'Elsa & Fred ', 'An Alan Smithee Film: Burn Hollywood Burn ', 'The Open Road ', 'The Good Guy ', 'Motherhood ', 'Free Style ', 'Strangerland ', 'The Janky Promoters ', 'Blonde Ambition ', 'The Oxford Murders ', 'The Reef ', 'Eulogy ', 'White Noise 2: The Light ', 'You Got Served: Beat the World ', 'Fifty Dead Men Walking ', 'Jungle Shuffle ', 'Adam Resurrected ', 'Of Horses and Men ', \"It's a Wonderful Afterlife \", \"The Devil's Tomb \", 'Partition ', 'Good Intentions ', 'The Good, the Bad, the Weird ', 'Nurse 3D ', 'Gunless ', 'Adventureland ', 'The Lost City ', 'Next Friday ', 'American Heist ', 'You Only Live Twice ', 'Plastic ', 'Amour ', 'Poltergeist III ', 'Re-Kill ', \"It's a Mad, Mad, Mad, Mad World \", 'Volver ', 'Heavy Metal ', 'Gentlemen Broncos ', 'Richard III ', 'Into the Grizzly Maze ', 'Kites ', 'Melancholia ', 'Red Dog ', 'Jab Tak Hai Jaan ', 'Alien ', 'The Texas Chain Saw Massacre ', 'The Runaways ', 'Fiddler on the Roof ', 'Thunderball ', 'Detention ', 'Loose Cannons ', 'Set It Off ', 'The Best Man ', \"Child's Play \", 'Sicko ', 'The Purge: Anarchy ', 'Down to You ', 'Harold & Kumar Go to White Castle ', 'The Contender ', 'Boiler Room ', 'Trading Places ', 'Black Christmas ', \"Breakin' All the Rules \", 'Henry V ', 'The Savages ', 'Chasing Papi ', 'The Way of the Gun ', 'Igby Goes Down ', 'PCU ', 'The Ultimate Gift ', 'The Bold and the Beautiful             ', 'The Ice Pirates ', 'Gracie ', 'Trust the Man ', 'Hamlet 2 ', 'Velvet Goldmine ', 'The Wailing ', 'Glee: The 3D Concert Movie ', 'The Legend of Suriyothai ', 'Two Evil Eyes ', 'Barbecue ', 'All or Nothing ', 'Princess Kaiulani ', 'Opal Dream ', 'Heist ', 'Flame and Citron ', 'Undiscovered ', 'Red Riding: In the Year of Our Lord 1974 ', 'The Girl on the Train ', 'Veronika Decides to Die ', 'Crocodile Dundee ', 'Ultramarines: A Warhammer 40,000 Movie ', 'The I Inside ', 'Beneath Hill 60 ', 'Polisse ', 'Awake ', 'Star Wars: The Clone Wars             ', 'Skin Trade ', 'The Lost Boys ', 'Crazy Heart ', 'The Rose ', 'Baggage Claim ', 'Barbarella ', 'Shipwrecked ', 'Election ', 'The Namesake ', 'The DUFF ', 'Glitter ', 'The Haunting in Connecticut 2: Ghosts of Georgia ', 'Silmido ', 'Bright Star ', 'My Name Is Khan ', 'Footloose ', 'All Is Lost ', 'Limbo ', 'Namastey London ', 'The Wind That Shakes the Barley ', 'Yeh Jawaani Hai Deewani ', 'The Karate Kid ', 'Quo Vadis ', 'Repo! The Genetic Opera ', 'Valley of the Wolves: Iraq ', 'Pulp Fiction ', 'The Muppet Movie ', 'Nightcrawler ', 'Club Dread ', 'The Sound of Music ', 'Splash ', 'Little Miss Sunshine ', 'Stand by Me ', '28 Days Later... ', 'You Got Served ', 'Escape from Alcatraz ', 'Brown Sugar ', 'A Thin Line Between Love and Hate ', '50/50 ', 'Shutter ', 'Creepshow ', 'That Awkward Moment ', 'Modern Problems ', 'Kicks ', 'Much Ado About Nothing ', \"On Her Majesty's Secret Service \", 'The Player             ', 'New Nightmare ', 'Drive Me Crazy ', 'Akeelah and the Bee ', 'Half Baked ', 'New in Town ', 'Syriana ', 'American Psycho ', 'The Good Girl ', 'Bon Cop Bad Cop ', 'The Boondock Saints II: All Saints Day ', 'The City of Your Final Destination ', 'Enough Said ', 'Easy A ', 'The Inkwell ', 'Shadow of the Vampire ', 'Prom ', 'The Pallbearer ', 'Held Up ', 'Woman on Top ', 'Howards End ', 'Preacher             ', 'Anomalisa ', 'Another Year ', '8 Women ', 'Showdown in Little Tokyo ', 'Clay Pigeons ', \"It's Kind of a Funny Story \", 'Made in Dagenham ', 'When Did You Last See Your Father? ', 'Prefontaine ', 'The Wicked Lady ', 'The Secret of Kells ', 'Begin Again ', 'Down in the Valley ', 'Brooklyn Rules ', 'Restless ', 'The Singing Detective ', 'The Land Girls ', 'Fido ', 'The Wendell Baker Story ', 'Wild Target ', 'Pathology ', 'Wuthering Heights             ', '10th & Wolf ', 'Dear Wendy ', 'Aloft ', 'Akira ', 'The Death and Life of Bobby Z ', 'The Rocket: The Legend of Rocket Richard ', 'Swelter ', 'My Lucky Star ', 'Imagine Me & You ', 'Mr. Church ', 'Swimming Pool ', 'Green Street 3: Never Back Down ', 'The Blood of Heroes ', 'Code of Honor ', 'Driving Miss Daisy ', 'Soul Food ', 'Rumble in the Bronx ', 'Far from Men ', 'Thank You for Smoking ', 'Hostel: Part II ', 'An Education ', 'Shopgirl ', 'The Hotel New Hampshire ', 'Narc ', 'Men with Brooms ', 'Witless Protection ', 'The Work and the Glory ', 'Extract ', 'Masked and Anonymous ', 'Alias Betty ', 'Code 46 ', 'Outside Bet ', 'Crash ', 'Albert Nobbs ', 'Black November ', 'Ta Ra Rum Pum ', 'Persepolis ', 'The Hole ', 'The Wave ', 'The Neon Demon ', 'Harry Brown ', 'Spider-Man 3 ', 'The Omega Code ', 'Juno ', 'Pound of Flesh ', 'Diamonds Are Forever ', 'The Godfather ', 'Flashdance ', '500 Days of Summer ', 'The Piano ', 'Magic Mike ', 'Darkness Falls ', 'Live and Let Die ', 'My Dog Skip ', 'Definitely, Maybe ', 'Jumping the Broom ', 'The Great Gatsby ', 'Good Night, and Good Luck. ', 'Capote ', 'Desperado ', 'The Claim ', 'Fargo             ', \"Logan's Run \", 'The Man with the Golden Gun ', 'Action Jackson ', 'The Descent ', 'Michael Jordan to the Max ', \"Devil's Due \", 'Flirting with Disaster ', \"The Devil's Rejects \", 'Buffy the Vampire Slayer             ', 'Dope ', 'In Too Deep ', 'Skyfall ', 'House of 1000 Corpses ', 'Alien Zone ', 'A Serious Man ', 'Get Low ', 'Warlock ', 'Beyond the Lights ', 'A Single Man ', 'The Last Temptation of Christ ', 'Outside Providence ', 'Bride & Prejudice ', 'Rabbit-Proof Fence ', \"Who's Your Caddy? \", 'Split Second ', 'Nikita             ', 'The Other Side of Heaven ', 'Dark Angel             ', 'Veer-Zaara ', 'Redbelt ', 'Cyrus ', 'A Dog of Flanders ', 'Auto Focus ', 'Factory Girl ', 'We Need to Talk About Kevin ', 'The Christmas Candle ', 'The Mighty Macs ', \"Losin' It \", 'Mother and Child ', 'March or Die ', 'Les visiteurs ', 'Somewhere ', 'I Hope They Serve Beer in Hell ', 'Chairman of the Board ', 'Hesher ', 'Dom Hemingway ', 'Gerry ', 'The Heart of Me ', 'Freeheld ', 'The Extra Man ', 'Hard to Be a God ', 'Ca$h ', 'Wah-Wah ', 'The Boondock Saints ', 'Z Storm ', 'Twixt ', 'Snow Queen ', 'Alpha and Omega 4: The Legend of the Saw Toothed Cave ', 'Pale Rider ', 'Stargate: The Ark of Truth ', 'Dazed and Confused ', 'High School Musical 2 ', 'Two Lovers and a Bear ', 'Criminal Activities ', 'Aimee & Jaguar ', 'The Chumscrubber ', 'Shade ', 'House at the End of the Street ', 'Incendies ', 'Remember Me, My Love ', \"Perrier's Bounty \", 'Elite Squad ', 'Annabelle ', 'Bran Nue Dae ', 'Boyz n the Hood ', 'La Bamba ', 'The Four Seasons ', 'Dressed to Kill ', 'The Adventures of Huck Finn ', 'Go ', 'Friends with Money ', 'The Andromeda Strain ', 'Bats ', 'Nowhere in Africa ', 'Shame ', 'Layer Cake ', 'The Work and the Glory II: American Zion ', 'The East ', 'A Home at the End of the World ', 'Aberdeen ', 'The Messenger ', 'Tracker ', 'Control ', 'The Terminator ', 'Good Bye Lenin! ', 'The Damned United ', 'The Return of the Living Dead ', 'Gomorrah             ', 'Mallrats ', 'Grease ', 'Platoon ', 'Fahrenheit 9/11 ', 'Butch Cassidy and the Sundance Kid ', 'Mary Poppins ', 'Ordinary People ', 'Around the World in 80 Days ', 'West Side Story ', 'Caddyshack ', 'The Brothers ', 'The Wood ', 'The Usual Suspects ', 'A Nightmare on Elm Street 5: The Dream Child ', 'Van Wilder: Party Liaison ', 'The Wrestler ', 'Duel in the Sun ', 'Best in Show ', 'Escape from New York ', 'School Daze ', 'Daddy Day Camp ', 'Mr. Nice Guy ', 'A Mighty Wind ', 'Mystic Pizza ', 'War & Peace             ', 'Sliding Doors ', 'Tales from the Hood ', 'The Last King of Scotland ', 'Halloween 5 ', 'Bernie ', 'Dolphins and Whales 3D: Tribes of the Ocean ', 'Pollock ', '200 Cigarettes ', 'The Words ', 'Casa de mi Padre ', 'City Island ', 'The Guard ', 'College ', 'The Virgin Suicides ', 'Little Voice ', 'Miss March ', 'Wish I Was Here ', 'Simply Irresistible ', 'Veronica Mars             ', 'Hedwig and the Angry Inch ', 'Only the Strong ', 'Goddess of Love ', 'Shattered Glass ', 'Novocaine ', 'The Business of Strangers ', 'The Wild Bunch ', 'The Wackness ', 'The Great Train Robbery ', 'Morvern Callar ', 'Beastmaster 2: Through the Portal of Time ', 'The 5th Quarter ', 'The Flower of Evil ', 'The Greatest ', 'Snow Flower and the Secret Fan ', 'Come Early Morning ', 'Lucky Break ', 'Julia ', 'Surfer, Dude ', 'Lake of Fire ', '11:14 ', 'Men of War ', 'Don McKay ', 'Deadfall ', 'A Shine of Rainbows ', 'The Hit List ', 'Emma             ', 'Videodrome ', \"L'auberge espagnole \", 'Song One ', 'Murder by Numbers ', 'Winter in Wartime ', 'Freaky Deaky ', 'The Train ', 'Trade of Innocents ', 'The Protector ', 'Stiff Upper Lips ', 'The Inbetweeners             ', 'Bend It Like Beckham ', 'Sunshine State ', 'Crossover ', 'Khiladi 786 ', '[Rec] 2 ', 'Standing Ovation ', 'The Sting ', 'Chariots of Fire ', 'Diary of a Mad Black Woman ', 'Shine ', 'Don Jon ', 'High Plains Drifter ', 'Ghost World ', 'Iris ', 'Galaxina ', 'The Chorus ', 'Mambo Italiano ', 'Wonderland ', 'Do the Right Thing ', 'Harvard Man ', 'Le Havre ', 'Irreversible ', 'R100 ', 'Rang De Basanti ', 'Animals ', 'Salvation Boulevard ', 'The Ten ', 'A Room for Romeo Brass ', 'Headhunters ', 'Grabbers ', 'Saint Ralph ', 'Miss Julie ', 'Somewhere in Time ', 'Dum Maaro Dum ', 'Insidious: Chapter 2 ', 'Saw II ', '10 Cloverfield Lane ', 'Jackass: The Movie ', 'Lights Out ', 'Paranormal Activity 3 ', 'Ouija ', 'A Nightmare on Elm Street 3: Dream Warriors ', 'The Gift ', 'Instructions Not Included ', 'Paranormal Activity 4 ', 'The Robe ', 'The Return of the Pink Panther ', \"Freddy's Dead: The Final Nightmare \", 'Monster ', '20,000 Leagues Under the Sea ', 'Paranormal Activity: The Marked Ones ', 'The Elephant Man ', 'Dallas Buyers Club ', 'The Lazarus Effect ', 'Memento ', 'Oculus ', 'Clerks II ', 'Billy Elliot ', 'The Way Way Back ', 'House Party 2 ', 'The Man from Snowy River ', \"Doug's 1st Movie \", 'The Apostle ', 'Mommie Dearest ', 'Our Idiot Brother ', 'Race ', 'The Players Club ', 'O ', 'As Above, So Below ', 'Addicted ', \"Eve's Bayou \", 'Still Alice ', 'The Egyptian ', 'Nighthawks ', 'Friday the 13th Part VIII: Jason Takes Manhattan ', 'My Big Fat Greek Wedding ', 'Spring Breakers ', 'Halloween: The Curse of Michael Myers ', 'Y Tu Mamá También ', 'Shaun of the Dead ', 'The Haunting of Molly Hartley ', 'Lone Star ', 'Halloween 4: The Return of Michael Myers ', \"April Fool's Day \", 'Diner ', 'Lone Wolf McQuade ', 'Apollo 18 ', 'Sunshine Cleaning ', 'No Escape ', 'The Beastmaster ', 'Solomon and Sheba ', 'Fifty Shades of Black ', 'Not Easily Broken ', 'A Farewell to Arms ', 'The Perfect Match ', 'Digimon: The Movie ', 'Saved! ', 'The Barbarian Invasions ', 'Robin and Marian ', 'The Forsaken ', 'Force 10 from Navarone ', 'UHF ', \"Grandma's Boy \", 'Slums of Beverly Hills ', 'Once Upon a Time in the West ', 'Made ', 'Moon ', 'Keeping Up with the Steins ', 'Sea Rex 3D: Journey to a Prehistoric World ', 'The Sweet Hereafter ', 'Of Gods and Men ', 'Bottle Shock ', 'Jekyll and Hyde... Together Again ', 'Heavenly Creatures ', '90 Minutes in Heaven ', 'Everything Must Go ', 'Zero Effect ', 'The Machinist ', 'Light Sleeper ', 'Kill the Messenger ', 'Rabbit Hole ', 'Party Monster ', 'Green Room ', 'The Oh in Ohio ', 'Atlas Shrugged: Who Is John Galt? ', 'Bottle Rocket ', 'Albino Alligator ', 'Gandhi, My Father ', 'Standard Operating Procedure ', 'Out of the Blue ', 'Tucker and Dale vs Evil ', 'Lovely, Still ', 'Tycoon ', 'Desert Blue ', 'Decoys ', 'The Visit ', 'Redacted ', 'Fascination ', 'Saving Grace             ', 'Area 51 ', 'Sleep Tight ', 'The Cottage ', 'Dead Like Me: Life After Death ', 'Farce of the Penguins ', 'Flying By ', 'Psych             ', 'Rudderless ', 'Henry & Me ', 'Christmas Eve ', 'We Have Your Husband ', 'Dying of the Light ', 'Born of War ', 'Capricorn One ', \"Should've Been Romeo \", 'Running Forever ', 'Yoga Hosers ', 'Navy Seals vs. Zombies ', 'I Served the King of England ', 'Soul Kitchen ', 'Sling Blade ', 'The Awakening ', 'Hostel ', 'Tristram Shandy: A Cock and Bull Story ', 'Take Shelter ', 'Lady in White ', 'Driving Lessons ', \"Let's Kill Ward's Wife \", 'The Texas Chainsaw Massacre 2 ', 'Pat Garrett & Billy the Kid ', 'Only God Forgives ', 'Camping sauvage ', 'Without Men ', 'Barfi ', 'Dear Frankie ', 'All Hat ', 'The Names of Love ', 'Treading Water ', 'Savage Grace ', 'Out of the Blue ', 'Police Academy ', 'The Blue Lagoon ', 'Four Weddings and a Funeral ', 'Fast Times at Ridgemont High ', 'Moby Dick ', '25th Hour ', 'Secrets and Lies             ', 'Bound ', 'Requiem for a Dream ', 'State Fair ', 'Tango ', 'Salvador ', \"Moms' Night Out \", 'Donnie Darko ', 'Saving Private Perez ', 'Character ', 'Spun ', 'Life During Wartime ', 'Lady Vengeance ', \"Mozart's Sister \", 'Mean Machine ', 'Exiled ', 'Blackthorn ', 'Lilya 4-Ever ', 'After.Life ', 'Fugly ', \"One Flew Over the Cuckoo's Nest \", \"R.L. Stine's Monsterville: The Cabinet of Souls \", 'Silent Movie ', 'Airlift ', 'Anne of Green Gables             ', 'Falcon Rising ', 'The Sweeney ', 'Sexy Beast ', 'Easy Money ', 'Whale Rider ', 'Paa ', 'Cargo ', 'Pan ', 'High School Musical ', 'Animal Kingdom             ', 'Love and Death on Long Island ', 'Night Watch ', 'The Crying Game ', \"Porky's \", 'Survival of the Dead ', 'Night of the Living Dead ', 'Lost in Translation ', 'Annie Hall ', 'The Greatest Show on Earth ', 'Exodus: Gods and Kings ', \"Monster's Ball \", 'Maggie ', 'Leaving Las Vegas ', 'Hansel & Gretel Get Baked ', 'The Return of the Living Dead ', 'The Front Page ', 'The Boy Next Door ', 'Trapeze ', 'Saving Grace             ', 'The Kids Are All Right ', 'They Live ', 'The Great Escape ', 'What the #$*! Do We (K)now!? ', 'The Last Exorcism Part II ', 'Boyhood ', 'Scoop ', 'Planet of the Apes ', 'The Wash ', '3 Strikes ', 'The Cooler ', 'The Misfits ', 'The Night Listener ', 'The Jerky Boys ', 'My Soul to Take ', 'The Orphanage ', 'A Haunted House 2 ', 'The Rules of Attraction ', 'Topaz ', \"Let's Go to Prison \", 'Four Rooms ', 'Secretary ', 'The Real Cancun ', 'Talk Radio ', 'Waiting for Guffman ', 'Love Stinks ', 'You Kill Me ', 'Thumbsucker ', 'Red State ', 'Mirrormask ', 'Samsara ', 'The Barbarians ', 'The Art of Getting By ', 'Zipper ', 'Poolhall Junkies ', 'The Loss of Sexual Innocence ', 'Holy Motors ', 'Joe ', 'Shooting Fish ', 'Prison ', 'Psycho Beach Party ', 'The Big Tease ', 'Buen Día, Ramón ', 'Trust ', 'An Everlasting Piece ', 'Among Giants ', 'Adore ', 'The Velocity of Gary ', 'Mondays in the Sun ', 'Stake Land ', 'Sonny with a Chance             ', 'The Last Time I Committed Suicide ', 'Futuro Beach ', 'Another Happy Day ', 'A Lonely Place to Die ', 'Nothing ', 'The Geographer Drank His Globe Away ', '1776 ', 'Inescapable ', \"Hell's Angels \", 'Purple Violets ', 'The Veil ', 'The Loved Ones ', 'No Vacancy ', 'How to Fall in Love ', 'The Perfect Wave ', 'Ben-Hur ', 'A Man for All Seasons ', 'Network ', 'Gone with the Wind ', 'Desert Dancer ', 'Major Dundee ', 'Down for Life ', 'Annie Get Your Gun ', 'Four Lions ', 'House of Sand ', 'Defendor ', 'The Pirate ', 'The Good Heart ', 'The History Boys ', 'Unknown ', 'M*A*S*H             ', 'Midnight Cowboy ', 'The Full Monty ', 'Airplane! ', 'Chain of Command ', 'Friday ', 'Menace II Society ', 'Empire             ', 'Creepshow 2 ', 'The Ballad of Cable Hogue ', 'In Cold Blood ', \"The Nun's Story \", 'Harper ', 'Frenzy ', 'The Witch ', 'I Got the Hook Up ', \"She's the One \", 'Gods and Monsters ', 'The Secret in Their Eyes ', 'Day of the Dead ', 'Train ', 'Evil Dead II ', 'Pootie Tang ', 'Sharknado ', 'La otra conquista ', 'Trollhunter ', 'Ira & Abby ', 'The Watch ', 'Winter Passing ', 'D.E.B.S. ', 'The Masked Saint ', 'The Betrayed ', 'Taxman ', 'The Secret             ', '2:13 ', 'Batman: The Dark Knight Returns, Part 2 ', 'Time to Choose ', 'In the Name of the King: The Last Job ', 'Wicked Blood ', 'Dawn Patrol ', 'Lords of London ', 'High Anxiety ', 'March of the Penguins ', 'Margin Call ', 'August ', 'Choke ', 'Whiplash ', 'City of God ', 'Human Traffic ', 'Day One ', 'The Dead Girl ', 'The Hunt ', 'A Christmas Story ', 'Bella ', 'Class of 1984 ', 'The Opposite Sex ', 'Dreaming of Joseph Lees ', 'The Class ', \"Rosemary's Baby \", 'The Man Who Shot Liberty Valance ', 'Adam ', 'Maria Full of Grace ', 'Beginners ', 'Feast ', 'Animal House ', 'Goldfinger ', 'Antiviral ', \"It's a Wonderful Life \", 'Trainspotting ', 'The Original Kings of Comedy ', 'Paranormal Activity 2 ', 'Waking Ned Devine ', 'Bowling for Columbine ', 'Coming Home ', \"A Nightmare on Elm Street 2: Freddy's Revenge \", 'A Room with a View ', 'The Purge ', 'Sinister ', 'Martin Lawrence Live: Runteldat ', 'Cat on a Hot Tin Roof ', 'Beneath the Planet of the Apes ', 'Air Bud ', 'Pokémon 3: The Movie ', 'Jason Lives: Friday the 13th Part VI ', 'The Bridge on the River Kwai ', 'Spaced Invaders ', 'Family Plot ', 'The Apartment ', 'Jason Goes to Hell: The Final Friday ', 'Torn Curtain ', \"Dave Chappelle's Block Party \", 'Slow West ', 'Krush Groove ', 'Next Day Air ', 'Elmer Gantry ', 'Judgment at Nuremberg ', \"Trippin' \", 'Robot Chicken             ', 'Red River ', 'Phat Girlz ', 'Before Midnight ', 'Teen Wolf Too ', 'Phantasm II ', 'Woman Thou Art Loosed ', 'Real Women Have Curves ', 'Deadline Gallipoli             ', 'Water ', 'East Is East ', 'Whipped ', 'Kama Sutra: A Tale of Love ', 'Please Give ', 'Willy Wonka & the Chocolate Factory ', 'Warlock: The Armageddon ', '8 Heads in a Duffel Bag ', 'Days of Heaven ', 'Thirteen Conversations About One Thing ', 'Jawbreaker ', 'Basquiat ', 'Frances Ha ', 'Tsotsi ', 'Happiness ', 'DysFunktional Family ', 'Tusk ', 'Oldboy ', 'Letters to God ', 'Hobo with a Shotgun ', 'Compadres ', 'Freeway ', \"Love's Abiding Joy \", 'Fish Tank ', 'Damsels in Distress ', 'Creature             ', 'Bachelorette ', 'BrainDead             ', 'Brave New Girl ', \"Tim and Eric's Billion Dollar Movie \", 'The Gambler ', 'The Grand             ', 'Summer Storm ', 'Fort McCoy ', 'Chain Letter ', 'Just Looking ', 'The Divide ', 'The Eclipse ', 'Demonic ', 'My Big Fat Independent Movie ', 'Alice in Wonderland ', 'The Deported ', 'Tanner Hall ', 'Open Road ', 'They Came Together ', '30 Nights of Paranormal Activity with the Devil Inside the Girl with the Dragon Tattoo ', 'Never Back Down 2: The Beatdown ', 'Point Blank ', 'Four Single Fathers ', 'Enter the Dangerous Mind ', 'Something Wicked ', 'AWOL-72 ', 'Iguana ', 'Cinderella ', 'Chicago Overcoat ', 'Barry Munday ', 'Central Station ', 'Pocketful of Miracles ', 'Close Range ', 'Boynton Beach Club ', 'Amnesiac ', 'Freakonomics ', 'The Omen ', 'High Tension ', 'Griff the Invisible ', 'Unnatural ', 'Hustle & Flow ', 'Some Like It Hot ', 'Friday the 13th Part VII: The New Blood ', 'The Wizard of Oz ', 'Young Frankenstein ', 'Diary of the Dead ', 'Lage Raho Munna Bhai ', \"Ulee's Gold \", 'The Black Stallion ', 'Sardaar Ji ', 'Journey to Saturn ', \"Donovan's Reef \", 'The Dress ', 'A Guy Named Joe ', 'Blazing Saddles ', 'Friday the 13th: The Final Chapter ', 'Ida ', 'Maurice ', 'Beer League ', \"The Astronaut's Wife \", 'Riding Giants ', 'Timecrimes ', 'Silver Medallist ', 'Timber Falls ', \"Singin' in the Rain \", 'Fat, Sick & Nearly Dead ', 'A Haunted House ', \"2016: Obama's America \", 'Halloween II ', 'That Thing You Do! ', 'Halloween III: Season of the Witch ', 'Escape from the Planet of the Apes ', 'Hud ', 'Kevin Hart: Let Me Explain ', 'My Own Private Idaho ', 'Garden State ', 'Before Sunrise ', 'Sur le seuil ', \"Jesus' Son \", 'Saving Face ', 'Brick Lane ', 'Robot & Frank ', 'My Life Without Me ', 'The Spectacular Now ', \"Marilyn Hotchkiss' Ballroom Dancing and Charm School \", 'Religulous ', 'Fuel ', \"Valley of the Heart's Delight \", 'Dodgeball: A True Underdog Story ', 'Eye of the Dolphin ', '8: The Mormon Proposition ', 'The Other End of the Line ', 'Anatomy ', 'Sleep Dealer ', 'Super ', 'Christmas Mail ', 'Stung ', 'Antibirth ', 'Get on the Bus ', 'Thr3e ', 'Idiocracy ', 'The Rise of the Krays ', 'This Is England ', 'Alien Uprising ', 'Bathing Beauty ', 'Go for It! ', 'Dancer, Texas Pop. 81 ', 'Show Boat ', 'Redemption Road ', 'The Calling ', 'The Brave Little Toaster ', 'Fantasia ', 'The French Connection ', '8 Days ', 'Friday the 13th Part III ', 'Friday the 13th: A New Beginning ', 'The Last Sin Eater ', 'Do You Believe? ', 'Impact Point ', 'The Valley of Decision ', 'Eden ', 'Chicken Tikka Masala ', 'Always Woodstock ', 'Jack Brooks: Monster Slayer ', 'The Best Years of Our Lives ', 'Bully ', 'Elling ', 'Mi America ', '[Rec] ', 'Lies in Plain Sight ', 'Sharkskin ', 'Containment ', 'The Timber ', 'From Russia with Love ', 'The Toxic Avenger Part II ', 'In the Heat of the Night             ', 'Sleeper ', 'It Follows ', 'Everything You Always Wanted to Know About Sex * But Were Afraid to Ask ', 'To Kill a Mockingbird ', 'Mad Max 2: The Road Warrior ', 'The Legend of Drunken Master ', 'Lolita ', \"Boys Don't Cry \", 'Silent House ', 'The Lives of Others ', 'Courageous ', 'The Hustler ', 'Boom Town ', 'The Triplets of Belleville ', 'Smoke Signals ', 'American Splendor ', 'Before Sunset ', 'Amores Perros ', 'Thirteen ', \"Gentleman's Agreement \", \"Winter's Bone \", 'Touching the Void ', \"Alexander's Ragtime Band \", 'Me and You and Everyone We Know ', 'Inside Job ', 'We Are Your Friends ', 'Ghost Dog: The Way of the Samurai ', 'Harsh Times ', 'Captive ', 'Full Frontal ', 'Witchboard ', 'Strangers with Candy             ', 'Hamlet ', 'Shortbus ', 'Waltz with Bashir ', 'The Book of Mormon Movie, Volume 1: The Journey ', 'No End in Sight ', 'The Diary of a Teenage Girl ', 'Get Real             ', 'In the Shadow of the Moon ', \"Meek's Cutoff \", 'Inside Deep Throat ', 'Dinner Rush ', 'Clockwatchers ', 'The Virginity Hit ', 'Subway ', 'House of D ', 'Teeth ', 'Six-String Samurai ', 'Hum To Mohabbat Karega ', \"It's All Gone Pete Tong \", 'Saint John of Las Vegas ', '24 7: Twenty Four Seven ', 'Stonewall ', 'Eureka             ', 'Roadside Romeo ', 'This Thing of Ours ', 'The Lost Medallion: The Adventures of Billy Stone ', 'The Last Five Years ', 'The Missing Person ', 'Return of the Living Dead III ', 'London ', 'Sherrybaby ', 'Stealing Harvard ', 'Circle ', 'Eden Lake ', 'Plush ', 'Vampire Killers ', \"Gangster's Paradise: Jerusalema \", 'Freeze Frame ', 'Grave Encounters ', 'Stitches ', 'Nine Dead ', 'To Be Frank, Sinatra at 100 ', 'Bananas ', 'Supercapitalist ', 'Rockaway ', 'Wings             ', 'The Lady from Shanghai ', \"No Man's Land: The Rise of Reeker \", 'Highway ', 'Small Apartments ', 'Coffee Town ', 'The Ghastly Love of Johnny X ', 'All Is Bright ', 'The Torture Chamber of Dr. Sadism ', \"Straight A's \", 'A Funny Thing Happened on the Way to the Forum ', 'Slacker Uprising ', \"The Legend of Hell's Gate: An American Conspiracy \", 'The Walking Deceased ', 'The Curse of Downers Grove ', 'Shark Lake ', \"River's Edge \", 'Northfork ', 'The Marine 4: Moving Target ', 'Buried ', 'Submarine ', 'The Square ', 'One to Another ', 'Carrie ', 'ABCD (Any Body Can Dance) ', 'A Nightmare on Elm Street ', 'Man on Wire ', 'Abandoned ', 'Brotherly Love ', 'The Last Exorcism ', 'Nowhere Boy ', 'A Streetcar Named Desire ', 'Dr. Strangelove or: How I Learned to Stop Worrying and Love the Bomb ', 'El crimen del padre Amaro ', 'Beasts of the Southern Wild ', 'Battle for the Planet of the Apes ', 'Songcatcher ', 'Higher Ground ', 'Vaalu ', 'The Greatest Movie Ever Sold ', 'Ed and His Dead Mother ', 'Travelers and Magicians ', \"Hang 'Em High \", 'Deadline - U.S.A. ', 'Sublime ', \"A Beginner's Guide to Snuff \", 'Independence Daysaster ', 'Dysfunctional Friends ', 'Run Lola Run ', 'May ', 'Against the Wild ', 'Living Dark: The Story of Ted the Caver ', 'Under the Same Moon ', 'Conquest of the Planet of the Apes ', 'In the Bedroom ', 'I Spit on Your Grave ', 'Happy, Texas ', 'My Summer of Love ', 'The Lunchbox ', 'Yes ', \"You Can't Take It with You \", 'From Here to Eternity ', 'She Wore a Yellow Ribbon ', 'Grace Unplugged ', 'Foolish ', 'N-Secure ', 'Caramel ', 'Out of the Dark ', 'The Bubble ', 'The Conversation ', 'Dil Jo Bhi Kahey... ', 'Mississippi Mermaid ', 'I Love Your Work ', 'Cabin Fever ', 'Dawn of the Dead ', 'Waitress ', 'Bloodsport ', 'Mr. Smith Goes to Washington ', 'Kids ', 'The Squid and the Whale ', 'Kissing Jessica Stein ', 'A Woman, a Gun and a Noodle Shop ', 'Kickboxer: Vengeance ', 'Spellbound ', 'Exotica ', \"Buffalo '66 \", 'Insidious ', 'Repo Man ', 'Nine Queens ', 'The Gatekeepers ', 'The Ballad of Jack and Rose ', 'The To Do List ', 'Killing Zoe ', 'The Believer ', 'Snow Angels ', 'Unsullied ', 'Session 9 ', 'I Want Someone to Eat Cheese With ', 'Mooz-Lum ', 'Hatchet ', 'Modern Times ', 'Stolen Summer ', 'My Name Is Bruce ', 'The Salon ', 'Road Hard ', 'Forty Shades of Blue ', 'Amigo ', 'Pontypool ', 'Trucker ', 'Me You and Five Bucks ', 'The Lords of Salem ', 'Housebound ', 'Wal-Mart: The High Cost of Low Price ', 'Fetching Cody ', 'Once Upon a Time in Queens ', 'Closer to the Moon ', 'Mutant World ', 'Growing Up Smith ', 'Checkmate ', 'Jack Reacher ', '#Horror ', 'Wind Walkers ', 'Snow White and the Seven Dwarfs ', 'The Holy Girl ', 'Shalako ', 'Incident at Loch Ness ', 'The Dog Lover ', 'Girl House ', 'The Blue Room ', 'House at the End of the Drive ', 'Batman: The Movie ', 'Lock, Stock and Two Smoking Barrels ', 'The Ballad of Gregorio Cortez ', 'The Streets of San Francisco             ', 'The Celebration ', 'Trees Lounge ', 'Journey from the Fall ', 'The Basket ', 'Eddie: The Sleepwalking Cannibal ', 'Mercury Rising ', 'Space: Above and Beyond             ', 'Queen of the Mountains ', 'Def-Con 4 ', 'The Hebrew Hammer ', \"Neal 'N' Nikki \", 'The 41-Year-Old Virgin Who Knocked Up Sarah Marshall and Felt Superbad About It ', 'Forget Me Not ', 'Rebecca ', 'Friday the 13th Part 2 ', 'The Lost Weekend ', 'C.H.U.D. ', 'Filly Brown ', 'The Lion of Judah ', 'Niagara ', 'How Green Was My Valley ', 'The Girlfriend Experience             ', 'Da Sweet Blood of Jesus ', 'Sex, Lies, and Videotape ', 'Saw ', 'Super Troopers ', 'The Algerian ', 'The Amazing Catfish ', 'The Day the Earth Stood Still ', 'Monsoon Wedding ', 'You Can Count on Me ', 'The Trouble with Harry ', 'Lucky Number Slevin ', \"But I'm a Cheerleader \", 'Home Run ', 'Reservoir Dogs ', 'The Blue Bird ', 'The Good, the Bad and the Ugly ', 'The Second Mother ', 'Blue Like Jazz ', 'Down and Out with the Dolls ', 'Pink Ribbons, Inc. ', 'Certifiably Jonathan ', 'Q ', 'The Knife of Don Juan ', 'Grand Theft Parsons ', 'Extreme Movie ', 'The Charge of the Light Brigade ', 'Below Zero ', 'Crowsnest ', 'Airborne ', 'Cotton Comes to Harlem ', 'The Wicked Within ', 'Bleeding Hearts ', 'Waiting... ', \"Dead Man's Shoes \", 'Wolf Creek             ', 'From a Whisper to a Scream ', 'Sex with Strangers ', \"Dracula: Pages from a Virgin's Diary \", 'Faith Like Potatoes ', 'Beyond the Black Rainbow ', 'The Raid: Redemption ', 'The Dead Undead ', 'The Vatican Exorcisms ', 'Casablanca ', 'Lake Mungo ', 'Rocket Singh: Salesman of the Year ', 'Silent Running ', 'Rocky ', 'The Sleepwalker ', 'The Fog ', 'Tom Jones ', 'Unfriended ', 'Taxi Driver ', 'The Howling ', 'Dr. No ', 'Chernobyl Diaries ', 'Hellraiser ', \"God's Not Dead 2 \", 'Cry_Wolf ', 'Godzilla 2000 ', 'Blue Valentine ', 'Transamerica ', 'The Devil Inside ', 'Beyond the Valley of the Dolls ', 'Love Me Tender ', 'An Inconvenient Truth ', 'Sands of Iwo Jima ', 'Shine a Light ', 'The Green Inferno ', 'Departure ', 'The Sessions ', 'Food, Inc. ', 'October Baby ', 'Next Stop Wonderland ', 'Juno ', 'The Skeleton Twins ', 'Martha Marcy May Marlene ', 'Obvious Child ', 'Frozen River ', '20 Feet from Stardom ', 'Two Girls and a Guy ', 'Walking and Talking ', 'The Full Monty ', 'Who Killed the Electric Car? ', 'The Broken Hearts Club: A Romantic Comedy ', 'Bubba Ho-Tep ', 'Goosebumps ', 'Slam ', 'Brigham City ', 'Fiza ', 'History of the World: Part I ', 'Orgazmo ', 'All the Real Girls ', 'Dream with the Fishes ', 'Blue Car ', 'Luminarias ', 'Palo Alto ', 'Ajami ', 'Wristcutters: A Love Story ', 'I Origins ', 'The Battle of Shaker Heights ', 'The Lovely Bones ', 'The Act of Killing ', 'Taxi to the Dark Side ', 'Once in a Lifetime: The Extraordinary Story of the New York Cosmos ', 'Guiana 1838 ', 'Lisa Picard Is Famous ', 'Antarctica: A Year on Ice ', 'A Lego Brickumentary ', 'Hardflip ', 'Chocolate: Deep Dark Secrets ', 'The House of the Devil ', 'The Perfect Host ', 'Safe Men ', 'Speedway Junky ', 'The Last Big Thing ', 'The Specials ', '16 to Life ', 'Alone with Her ', 'Creative Control ', 'Special ', 'Sparkler ', 'The Helix... Loaded ', 'In Her Line of Fire ', 'The Jimmy Show ', 'Heli ', 'Karachi se Lahore ', 'Loving Annabelle ', 'Hits ', 'Jimmy and Judy ', 'Frat Party ', \"The Party's Over \", 'Proud ', 'The Poker House ', 'Childless ', 'ZMD: Zombies of Mass Destruction ', 'Snow White: A Deadly Summer ', 'Hidden Away ', 'My Last Day Without You ', 'Steppin: The Movie ', \"Doc Holliday's Revenge \", 'Black Rock ', 'Truth or Die ', 'The Pet ', 'Bang Bang Baby ', 'Fear Clinic ', 'Zombie Hunter ', 'A Fine Step ', 'Trance ', 'Charly ', 'Banshee Chapter ', 'Jesse             ', 'Ask Me Anything ', 'And Then Came Love ', 'Food Chains ', 'On the Waterfront ', 'L!fe Happens ', '4 Months, 3 Weeks and 2 Days ', 'The Horror Network Vol. 1 ', 'Hard Candy ', 'The Quiet ', 'Circumstance ', 'Fruitvale Station ', 'The Brass Teapot ', 'Bambi ', 'The Hammer ', 'Snitch ', 'Latter Days ', 'Elza ', '1982 ', 'For a Good Time, Call... ', 'Celeste & Jesse Forever ', 'Time Changer ', 'London to Brighton ', 'American Hero ', 'Windsor Drive ', 'A Separation ', 'Crying with Laughter ', 'Welcome to the Dollhouse ', 'Ruby in Paradise ', 'Raising Victor Vargas ', \"Pandora's Box \", 'Harrison Montgomery ', 'Live-In Maid ', 'Deterrence ', 'The Mudge Boy ', 'The Young Unknowns ', 'Not Cool ', 'Dead Snow ', 'Saints and Soldiers ', 'Vessel ', 'American Graffiti ', 'Iraq for Sale: The War Profiteers ', 'Aqua Teen Hunger Force Colon Movie Film for Theaters ', 'Safety Not Guaranteed ', 'Kevin Hart: Laugh at My Pain ', 'Kill List ', 'The Innkeepers ', 'The Unborn ', 'The Conformist ', 'Interview with the Assassin ', 'Donkey Punch ', 'All the Boys Love Mandy Lane ', 'Bled ', 'High Noon ', 'Hoop Dreams ', 'Rize ', 'Destiny ', 'L.I.E. ', 'The Sisterhood of Night ', 'B-Girl ', 'King Kong ', 'House of Wax ', 'Half Nelson ', 'Naturally Native ', 'Hav Plenty ', 'Adulterers ', 'Escape from Tomorrow ', 'Starsuckers ', 'The Hadza: Last of the First ', 'After ', 'Treachery ', 'Walter ', 'Top Hat ', 'The Blair Witch Project ', 'Woodstock ', 'The Kentucky Fried Movie ', 'Mercy Streets ', 'Arnolds Park ', 'Broken Vessels ', 'Water & Power ', 'They Will Have to Kill Us First ', 'Crop Circles: Quest for Truth ', 'Light from the Darkroom ', 'Irreplaceable ', \"The Maid's Room \", \"A Hard Day's Night \", 'The Harvest/La Cosecha ', 'Love Letters ', 'Julija in alfa Romeo ', 'Fireproof ', 'Faith Connections ', 'Benji ', 'Open Water ', 'High Road ', 'Kingdom of the Spiders ', 'Mad Hot Ballroom ', 'The Station Agent ', 'To Save a Life ', 'Wordplay ', 'Beyond the Mat ', 'The Singles Ward ', 'Osama ', 'Sholem Aleichem: Laughing in the Darkness ', 'Groove ', 'The R.M. ', 'Twin Falls Idaho ', 'Mean Creek ', 'Hurricane Streets ', 'Never Again ', 'Civil Brand ', 'Lonesome Jim ', 'Drinking Buddies ', 'Deceptive Practice: The Mysteries and Mentors of Ricky Jay ', 'Seven Samurai ', 'The Other Dream Team ', 'Johnny Suede ', 'Finishing the Game: The Search for a New Bruce Lee ', 'Rubber ', 'Home ', 'Kiss the Bride ', 'The Slaughter Rule ', 'Monsters ', 'The Californians ', 'The Living Wake ', 'Detention of the Dead ', 'Crazy Stone ', 'Scott Walker: 30 Century Man ', 'Everything Put Together ', 'Good Kill ', 'Insomnia Manica ', 'The Outrageous Sophie Tucker ', 'Now Is Good ', 'Girls Gone Dead ', 'America Is Still the Place ', 'Subconscious ', 'Crossroads ', 'Enter Nowhere ', 'The King of Najayo ', 'Fight to the Finish ', \"Alleluia! The Devil's Carnival \", 'The Sound and the Shadow ', 'Rodeo Girl ', 'Born to Fly: Elizabeth Streb vs. Gravity ', 'The Little Ponderosa Zoo ', 'Oz the Great and Powerful ', 'The Toxic Avenger ', 'Straight Out of Brooklyn ', 'Bloody Sunday ', 'Diamond Ruff ', 'Conversations with Other Women ', 'Poultrygeist: Night of the Chicken Dead ', 'Mutual Friends ', '42nd Street ', 'Rise of the Entrepreneur: The Search for a Better Way ', 'Metropolitan ', 'As It Is in Heaven ', 'Roadside ', 'Napoleon Dynamite ', 'Blue Ruin ', 'Paranormal Activity ', 'Dogtown and Z-Boys ', 'Monty Python and the Holy Grail ', 'Quinceañera ', 'Gory Gory Hallelujah ', 'Heroes             ', 'Tarnation ', 'I Want Your Money ', 'Love in the Time of Monsters ', 'The Beyond ', 'Home Movies             ', 'What Happens in Vegas ', 'The Dark Hours ', 'My Beautiful Laundrette ', 'Fabled ', 'Show Me ', 'Cries & Whispers ', \"Intolerance: Love's Struggle Throughout the Ages \", 'Trekkies ', 'The Broadway Melody ', 'The Evil Dead ', 'Maniac ', 'Censored Voices ', 'Murderball ', 'American Ninja 2: The Confrontation ', '51 Birch Street ', 'Revolution             ', 'Rotor DR1 ', 'Halloween ', '12 Angry Men ', 'My Dog Tulip ', 'It Happened One Night ', 'Dogtooth ', 'Tupac: Resurrection ', 'Tumbleweeds ', 'The Prophecy ', \"When the Cat's Away \", 'Pieces of April ', 'The Big Swap ', 'Old Joy ', 'Wendy and Lucy ', '3 Backyards ', 'Pierrot le Fou ', 'Sisters in Law ', 'Ayurveda: Art of Being ', 'Nothing But a Man ', 'First Love, Last Rites ', 'Fighting Tommy Riley ', 'Royal Kill ', 'Across the Universe ', 'The Looking Glass ', 'Death Race 2000 ', 'Locker 13 ', 'Midnight Cabaret ', \"Anderson's Cross \", 'Bizarre ', 'Graduation Day ', 'Some Guy Who Kills People ', 'Compliance ', 'Chasing Amy ', 'Lovely & Amazing ', 'Death Calls ', 'Better Luck Tomorrow ', 'The Incredibly True Adventure of Two Girls in Love ', 'Chuck & Buck ', 'American Desi ', \"Amidst the Devil's Wings \", 'Cube ', 'Love and Other Catastrophes ', 'I Married a Strange Person! ', 'November ', 'Like Crazy ', 'Teeth and Blood ', 'Sugar Town ', 'The Motel ', 'The Canyons ', 'Happy Valley             ', 'On the Outs ', 'Shotgun Stories ', 'Exam ', 'The Sticky Fingers of Time ', 'Sunday School Musical ', 'Rust ', 'Ink ', 'The Christmas Bunny ', 'Jesus People ', 'Butterfly ', 'UnDivided ', 'The Frozen ', 'The Love Letter ', 'Horse Camp ', 'Give Me Shelter ', 'The Big Parade ', 'Little Big Top ', 'Along the Roadside ', 'Bronson ', 'Western Religion ', 'Burn ', 'Urbania ', 'The Stewardesses ', 'The Beast from 20,000 Fathoms ', '20,000 Leagues Under the Sea ', 'Mad Max ', 'Swingers ', 'A Fistful of Dollars ', 'She Done Him Wrong ', 'Short Cut to Nirvana: Kumbh Mela ', 'The Grace Card ', 'Middle of Nowhere ', '3 ', 'The Business of Fancydancing ', 'Call + Response ', 'Side Effects ', 'Malevolence ', 'Shooting the Warwicks ', 'Super Hybrid ', 'Baghead ', 'Solitude ', 'The Case of the Grinning Cat ', 'Ordet ', 'Good Dick ', 'The Man from Earth ', 'The Trials of Darryl Hunt ', 'An American Girl Holiday ', 'Yesterday Was a Lie ', 'Theresa Is a Mother ', 'H. ', 'Archaeology of a Woman ', 'Children of Heaven ', 'Weekend ', \"She's Gotta Have It \", 'Butterfly Girl ', 'The World Is Mine ', 'Another Earth ', 'The Calling ', \"Sweet Sweetback's Baadasssss Song \", 'Perfect Cowboy ', 'Tadpole ', 'Once ', 'The Woman Chaser ', 'The Horse Boy ', 'When the Lights Went Out ', 'Heroes of Dirt ', 'The Texas Chain Saw Massacre ', 'A Charlie Brown Christmas ', 'Antarctic Edge: 70° South ', 'Aroused ', 'Top Spin ', 'Roger & Me ', 'Cat People ', 'An American in Hollywood ', 'Sound of My Voice ', 'The Brain That Sings ', 'The Blood of My Brother ', \"Your Sister's Sister \", 'Romantic Schemer ', \"A Dog's Breakfast \", \"A Dog's Breakfast \", 'Night of the Living Dead ', 'Une Femme Mariée ', 'The Birth of a Nation ', 'The Work and the Story ', 'Facing the Giants ', 'The Gallows ', 'Eraserhead ', 'Over the Hill to the Poorhouse ', 'Hollywood Shuffle ', 'The Mighty ', 'Penitentiary ', 'The Lost Skeleton of Cadavra ', \"Dude, Where's My Dog?! \", 'Cheap Thrills ', 'Indie Game: The Movie ', 'Closure ', 'Open Secret ', 'Echo Dr. ', 'The Night Visitor ', 'The Past is a Grotesque Animal ', 'The Last House on the Left ', 'Peace, Propaganda & the Promised Land ', 'Pi ', \"I Love You, Don't Touch Me! \", '20 Dates ', 'Queen Crab ', 'Super Size Me ', 'The FP ', 'Happy Christmas ', \"The Brain That Wouldn't Die \", 'Tiger Orange ', 'Supporting Characters ', 'Absentia ', 'The Brothers McMullen ', 'The Dirties ', 'Gabriela ', 'Tiny Furniture ', 'Hayride ', 'The Naked Ape ', 'Counting ', 'The Call of Cthulhu ', 'Bending Steel ', 'The Signal ', 'The Image Revolution ', 'This Is Martin Bonner ', 'A True Story ', 'George Washington ', 'Smiling Fish & Goat on Fire ', 'Dawn of the Crescent Moon ', 'Raymond Did It ', 'The Last Waltz ', 'Run, Hide, Die ', 'The Exploding Girl ', \"The Legend of God's Gun \", 'Mutual Appreciation ', 'Her Cry: La Llorona Investigation ', 'Down Terrace ', 'Clerks ', 'Pink Narcissus ', 'Funny Ha Ha ', 'In the Company of Men ', 'Sabotage ', 'Manito ', 'Rampage ', 'Slacker ', 'Dutch Kills ', 'Dry Spell ', 'Flywheel ', 'Exeter ', 'The Ridges ', 'The Puffy Chair ', 'Stories of Our Lives ', 'Breaking Upwards ', 'All Superheroes Must Die ', 'Pink Flamingos ', 'Clean ', 'The Circle ', 'Tin Can Man ', 'The Cure ', 'On the Downlow ', 'Sanctuary; Quite a Conundrum ', 'Bang ', 'Primer ', 'Cavite ', 'El Mariachi ', 'The Mongol King ', 'Newlyweds ', 'Signed Sealed Delivered ', 'The Following             ', 'A Plague So Pleasant ', 'Shanghai Calling ', 'My Date with Drew ']\n"
     ]
    }
   ],
   "source": [
    "print(titles)"
   ]
  },
  {
   "cell_type": "code",
   "execution_count": 13,
   "metadata": {},
   "outputs": [
    {
     "name": "stdout",
     "output_type": "stream",
     "text": [
      "<class 'list'>\n"
     ]
    }
   ],
   "source": [
    "print(type(titles))"
   ]
  },
  {
   "cell_type": "code",
   "execution_count": 22,
   "metadata": {},
   "outputs": [
    {
     "name": "stdout",
     "output_type": "stream",
     "text": [
      "['Avatar ', \"Pirates of the Caribbean: At World's End \", 'Spectre ', 'The Dark Knight Rises ', 'Star Wars: Episode VII - The Force Awakens             ']\n"
     ]
    }
   ],
   "source": [
    "print(titles[:5])"
   ]
  },
  {
   "cell_type": "code",
   "execution_count": 23,
   "metadata": {},
   "outputs": [
    {
     "name": "stdout",
     "output_type": "stream",
     "text": [
      "{7: 138, 41: 17, 8: 226, 22: 138, 55: 3, 12: 330, 13: 306, 24: 85, 39: 13, 35: 30, 17: 239, 18: 219, 43: 8, 16: 264, 44: 9, 15: 284, 42: 14, 23: 109, 11: 328, 36: 21, 19: 213, 10: 294, 27: 69, 20: 176, 32: 43, 26: 74, 25: 82, 14: 274, 21: 138, 31: 47, 51: 5, 6: 139, 5: 91, 63: 1, 3: 8, 9: 267, 38: 24, 28: 51, 29: 65, 34: 31, 57: 1, 47: 4, 4: 35, 37: 18, 48: 4, 46: 7, 40: 14, 45: 4, 49: 4, 50: 3, 30: 36, 33: 21, 2: 5, 59: 2, 60: 1, 56: 1, 84: 1, 54: 2, 87: 1, 53: 2, 72: 1, 69: 1, 80: 1, 67: 1}\n"
     ]
    }
   ],
   "source": [
    "freq_title = {}\n",
    "for title in titles:\n",
    "    length = len(title)\n",
    "    if freq_title.get(length) is None :\n",
    "        freq_title[length] = 1\n",
    "    else:\n",
    "        freq_title[length]+=1\n",
    "       \n",
    "print(freq_title)"
   ]
  },
  {
   "cell_type": "code",
   "execution_count": 36,
   "metadata": {},
   "outputs": [],
   "source": [
    "x = np.array(list(freq_title.keys()))\n",
    "y = np.array(list(freq_title.values()))"
   ]
  },
  {
   "cell_type": "code",
   "execution_count": 37,
   "metadata": {},
   "outputs": [
    {
     "name": "stdout",
     "output_type": "stream",
     "text": [
      "[ 7 41  8 22 55 12 13 24 39 35 17 18 43 16 44 15 42 23 11 36 19 10 27 20\n",
      " 32 26 25 14 21 31 51  6  5 63  3  9 38 28 29 34 57 47  4 37 48 46 40 45\n",
      " 49 50 30 33  2 59 60 56 84 54 87 53 72 69 80 67]\n",
      "[138  17 226 138   3 330 306  85  13  30 239 219   8 264   9 284  14 109\n",
      " 328  21 213 294  69 176  43  74  82 274 138  47   5 139  91   1   8 267\n",
      "  24  51  65  31   1   4  35  18   4   7  14   4   4   3  36  21   5   2\n",
      "   1   1   1   2   1   2   1   1   1   1]\n"
     ]
    }
   ],
   "source": [
    "print(x)\n",
    "print(y)"
   ]
  },
  {
   "cell_type": "code",
   "execution_count": 38,
   "metadata": {},
   "outputs": [
    {
     "data": {
      "image/png": "[encoded data removed]",
      "text/plain": [
       "<Figure size 432x288 with 1 Axes>"
      ]
     },
     "metadata": {
      "needs_background": "light"
     },
     "output_type": "display_data"
    }
   ],
   "source": [
    "plt.scatter(x,y)\n",
    "plt.xlabel(\"length\")\n",
    "plt.ylabel(\"no of movies\")\n",
    "plt.title(\"MOVIE DATA\")\n",
    "plt.show()"
   ]
  },
  {
   "cell_type": "code",
   "execution_count": 42,
   "metadata": {},
   "outputs": [],
   "source": [
    "score = list(df.get('imdb_score'))"
   ]
  },
  {
   "cell_type": "code",
   "execution_count": 43,
   "metadata": {},
   "outputs": [
    {
     "name": "stdout",
     "output_type": "stream",
     "text": [
      "<class 'list'>\n"
     ]
    }
   ],
   "source": [
    "print(type(score))"
   ]
  },
  {
   "cell_type": "code",
   "execution_count": 44,
   "metadata": {},
   "outputs": [],
   "source": [
    "data =  df.values"
   ]
  },
  {
   "cell_type": "code",
   "execution_count": 45,
   "metadata": {},
   "outputs": [
    {
     "name": "stdout",
     "output_type": "stream",
     "text": [
      "[['Color' 'James Cameron' 723.0 ... 7.9 1.78 33000]\n",
      " ['Color' 'Gore Verbinski' 302.0 ... 7.1 2.35 0]\n",
      " ['Color' 'Sam Mendes' 602.0 ... 6.8 2.35 85000]\n",
      " ...\n",
      " ['Color' 'Benjamin Roberds' 13.0 ... 6.3 nan 16]\n",
      " ['Color' 'Daniel Hsia' 14.0 ... 6.3 2.35 660]\n",
      " ['Color' 'Jon Gunn' 43.0 ... 6.6 1.85 456]]\n"
     ]
    }
   ],
   "source": [
    "print(data)"
   ]
  },
  {
   "cell_type": "code",
   "execution_count": 46,
   "metadata": {},
   "outputs": [
    {
     "name": "stdout",
     "output_type": "stream",
     "text": [
      "(5043, 28)\n"
     ]
    }
   ],
   "source": [
    "print(data.shape)"
   ]
  },
  {
   "cell_type": "code",
   "execution_count": 47,
   "metadata": {},
   "outputs": [
    {
     "name": "stdout",
     "output_type": "stream",
     "text": [
      "<class 'numpy.ndarray'>\n"
     ]
    }
   ],
   "source": [
    "print(type(data))"
   ]
  },
  {
   "cell_type": "code",
   "execution_count": 50,
   "metadata": {},
   "outputs": [],
   "source": [
    "title=df.get('movie_title')\n",
    "freq_title = {}"
   ]
  },
  {
   "cell_type": "code",
   "execution_count": null,
   "metadata": {},
   "outputs": [],
   "source": []
  }
 ],
 "metadata": {
  "kernelspec": {
   "display_name": "Python 3",
   "language": "python",
   "name": "python3"
  },
  "language_info": {
   "codemirror_mode": {
    "name": "ipython",
    "version": 3
   },
   "file_extension": ".py",
   "mimetype": "text/x-python",
   "name": "python",
   "nbconvert_exporter": "python",
   "pygments_lexer": "ipython3",
   "version": "3.7.4"
  }
 },
 "nbformat": 4,
 "nbformat_minor": 2
}
